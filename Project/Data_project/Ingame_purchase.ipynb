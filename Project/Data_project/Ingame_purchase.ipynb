{
 "cells": [
  {
   "cell_type": "code",
   "execution_count": 1,
   "id": "23d457dd",
   "metadata": {},
   "outputs": [],
   "source": [
    "import numpy as np \n",
    "import pandas as pd\n",
    "import matplotlib.pyplot as plt\n",
    "import seaborn as sns"
   ]
  },
  {
   "cell_type": "code",
   "execution_count": 2,
   "id": "1f710f2a",
   "metadata": {},
   "outputs": [],
   "source": [
    "df=pd.read_csv('mobile_game_inapp_purchases.csv')"
   ]
  },
  {
   "cell_type": "code",
   "execution_count": 3,
   "id": "48971514",
   "metadata": {},
   "outputs": [
    {
     "data": {
      "application/vnd.microsoft.datawrangler.viewer.v0+json": {
       "columns": [
        {
         "name": "index",
         "rawType": "int64",
         "type": "integer"
        },
        {
         "name": "UserID",
         "rawType": "object",
         "type": "string"
        },
        {
         "name": "Age",
         "rawType": "float64",
         "type": "float"
        },
        {
         "name": "Gender",
         "rawType": "object",
         "type": "unknown"
        },
        {
         "name": "Country",
         "rawType": "object",
         "type": "unknown"
        },
        {
         "name": "Device",
         "rawType": "object",
         "type": "unknown"
        },
        {
         "name": "GameGenre",
         "rawType": "object",
         "type": "unknown"
        },
        {
         "name": "SessionCount",
         "rawType": "int64",
         "type": "integer"
        },
        {
         "name": "AverageSessionLength",
         "rawType": "float64",
         "type": "float"
        },
        {
         "name": "SpendingSegment",
         "rawType": "object",
         "type": "string"
        },
        {
         "name": "InAppPurchaseAmount",
         "rawType": "float64",
         "type": "float"
        },
        {
         "name": "FirstPurchaseDaysAfterInstall",
         "rawType": "float64",
         "type": "float"
        },
        {
         "name": "PaymentMethod",
         "rawType": "object",
         "type": "unknown"
        },
        {
         "name": "LastPurchaseDate",
         "rawType": "object",
         "type": "unknown"
        }
       ],
       "ref": "bb0c2030-6f39-4632-bdcf-4773f9ef2ea2",
       "rows": [
        [
         "0",
         "c9889ab0-9cfc-4a75-acd9-5eab1df0015c",
         "49.0",
         "Male",
         "Norway",
         "Android",
         "Battle Royale",
         "9",
         "12.83",
         "Minnow",
         "11.4",
         "28.0",
         "Apple Pay",
         "2025-03-19"
        ],
        [
         "1",
         "7c9e413c-ecca-45f2-a780-2826a07952a2",
         "15.0",
         "Male",
         "Switzerland",
         "iOS",
         "Action RPG",
         "11",
         "19.39",
         "Minnow",
         "6.37",
         "18.0",
         "Debit Card",
         "2025-06-08"
        ],
        [
         "2",
         "fd61e419-1a92-4f43-a8c7-135842ad328a",
         "23.0",
         "Male",
         "China",
         "Android",
         "Fighting",
         "9",
         "8.87",
         "Minnow",
         "15.81",
         "30.0",
         "Apple Pay",
         "2025-06-02"
        ],
        [
         "3",
         "bdb7f6d1-ff9a-468c-afe7-43f32a94293e",
         "31.0",
         "Male",
         "Mexico",
         "Android",
         "Racing",
         "12",
         "19.56",
         "Minnow",
         "13.49",
         "9.0",
         "Debit Card",
         "2025-04-01"
        ],
        [
         "4",
         "aa7eec14-4846-47b9-b879-9c98038cda04",
         "37.0",
         "Female",
         "India",
         "Android",
         "Battle Royale",
         "10",
         "15.23",
         "Minnow",
         "10.86",
         "15.0",
         "Paypal",
         "2025-05-05"
        ],
        [
         "5",
         "992232c1-a563-4986-aa8b-b70d687d374f",
         "38.0",
         "Female",
         "China",
         "Android",
         "Fighting",
         "16",
         "25.97",
         "Dolphin",
         "150.51",
         "28.0",
         "Google Pay",
         "2025-05-05"
        ],
        [
         "6",
         "702bafd0-9a08-4269-801e-faf32f9f3ca5",
         "20.0",
         "Female",
         "Italy",
         "Android",
         "Simulation",
         "9",
         "10.98",
         "Whale",
         "608.21",
         "24.0",
         "Debit Card",
         "2025-06-04"
        ],
        [
         "7",
         "fc470ea9-111f-4637-a9ff-7162d81e2ec3",
         "34.0",
         "Female",
         "Denmark",
         "iOS",
         null,
         "15",
         "5.06",
         "Minnow",
         "19.17",
         "30.0",
         "Gift Card",
         "2025-04-26"
        ],
        [
         "8",
         "9b2efc1e-cd4b-48ab-b893-438d57855efa",
         "38.0",
         "Male",
         "Japan",
         "Android",
         "Action RPG",
         "10",
         "21.82",
         "Minnow",
         "11.52",
         "1.0",
         "Paypal",
         "2025-04-08"
        ],
        [
         "9",
         "25723b60-ea5b-4aff-9f23-97fdf5e98c58",
         "46.0",
         "Male",
         "Russia",
         "iOS",
         "Battle Royale",
         "18",
         "16.36",
         "Minnow",
         "7.76",
         "19.0",
         "Google Pay",
         "2025-02-03"
        ],
        [
         "10",
         "2bb44e49-c28d-4023-ac75-33d92cb77870",
         "29.0",
         "Male",
         "Switzerland",
         "iOS",
         "MMORPG",
         "18",
         "27.15",
         "Minnow",
         "13.44",
         "12.0",
         "Debit Card",
         "2025-05-06"
        ],
        [
         "11",
         "a516f724-6b0f-438c-b20b-59f5f35ab06a",
         "31.0",
         "Male",
         "Sweden",
         "Android",
         "Simulation",
         "10",
         "31.1",
         "Dolphin",
         null,
         null,
         null,
         null
        ],
        [
         "12",
         "f72780cf-bccf-4ae5-8c12-09ee9d511322",
         "30.0",
         "Female",
         "Australia",
         "Android",
         "Role Playing",
         "11",
         "20.97",
         "Minnow",
         "6.06",
         "28.0",
         "Gift Card",
         "2025-07-26"
        ],
        [
         "13",
         "659f30ff-48f1-4e76-8f82-312d98e1ba76",
         "24.0",
         "Male",
         "Turkey",
         "Android",
         "Fighting",
         "12",
         "28.71",
         "Minnow",
         "5.9",
         "27.0",
         "Carrier Billing",
         "2025-08-06"
        ],
        [
         "14",
         "34c56aa2-33c0-40c0-af9b-6c5b45929851",
         "21.0",
         "Male",
         "South Korea",
         "iOS",
         "Sports",
         "12",
         "7.62",
         "Minnow",
         "13.78",
         "20.0",
         "Gift Card",
         "2025-06-28"
        ],
        [
         "15",
         "ae1ccfa2-8967-4981-be8f-a5c3b0f9f394",
         "35.0",
         "Male",
         "Switzerland",
         "Android",
         "Action RPG",
         "10",
         "29.72",
         "Minnow",
         "6.9",
         "1.0",
         "Apple Pay",
         "2025-01-19"
        ],
        [
         "16",
         "bb0cf750-9fd2-4329-acc8-dc40dedaff3d",
         "37.0",
         "Female",
         "Japan",
         "iOS",
         "Card",
         "13",
         "5.39",
         "Minnow",
         "6.17",
         "11.0",
         "Gift Card",
         "2025-06-07"
        ],
        [
         "17",
         "cf1326be-4810-4b4d-bbc9-ff7b8c22d5ab",
         "45.0",
         "Male",
         "Saudi Arabia",
         "Android",
         "Sandbox",
         "11",
         "10.66",
         "Minnow",
         "11.83",
         "16.0",
         "Paypal",
         "2025-02-14"
        ],
        [
         "18",
         "784fa153-301d-4286-adf5-3459e04e8a97",
         "14.0",
         "Female",
         "Sri Lanka",
         "iOS",
         "Racing",
         "10",
         "33.44",
         "Whale",
         "3454.51",
         "22.0",
         "Carrier Billing",
         "2025-01-01"
        ],
        [
         "19",
         "9f1bd962-1ace-403e-aabb-eda9bd08e999",
         "47.0",
         "Female",
         "Sweden",
         "iOS",
         "Fighting",
         "10",
         "14.48",
         "Minnow",
         "13.4",
         "19.0",
         "Credit Card",
         "2025-03-13"
        ],
        [
         "20",
         "2cd9ff69-2a0d-4df7-82d5-400d609f66f5",
         "35.0",
         "Female",
         "Mexico",
         "Android",
         "Simulation",
         "9",
         "25.76",
         "Minnow",
         "17.37",
         "14.0",
         "Credit Card",
         "2025-03-26"
        ],
        [
         "21",
         "d17030c2-e861-4028-aa03-23b18d239a40",
         "14.0",
         "Male",
         "Japan",
         "iOS",
         "Puzzle",
         "9",
         "15.49",
         "Whale",
         "4302.61",
         "30.0",
         "Credit Card",
         "2025-04-08"
        ],
        [
         "22",
         "9b7c844f-1891-49da-a71d-b0b2719deda5",
         "21.0",
         "Male",
         "Canada",
         "Android",
         "Strategy",
         "9",
         "13.64",
         "Whale",
         "1945.86",
         "19.0",
         "Gift Card",
         "2025-02-07"
        ],
        [
         "23",
         "2bf7d319-fba5-4d64-9187-358045a4ed40",
         "54.0",
         "Male",
         "Canada",
         "iOS",
         "Role Playing",
         "12",
         "22.7",
         "Minnow",
         "8.36",
         "27.0",
         "Paypal",
         "2025-03-18"
        ],
        [
         "24",
         "bab46c87-b7a7-4e1c-b56f-d1c8d2897733",
         "47.0",
         "Male",
         "Denmark",
         "Android",
         "Simulation",
         "8",
         "16.56",
         "Minnow",
         "3.71",
         "22.0",
         "Google Pay",
         "2025-07-24"
        ],
        [
         "25",
         "902744c6-0620-47d6-92aa-b1d719b1d50f",
         "52.0",
         "Male",
         "Sri Lanka",
         "Android",
         "Strategy",
         "8",
         "15.21",
         "Dolphin",
         "393.62",
         "17.0",
         "Debit Card",
         "2025-02-09"
        ],
        [
         "26",
         "38041854-4fcc-41f7-a662-cf466afce86f",
         "25.0",
         "Male",
         "Italy",
         "iOS",
         "Fighting",
         "9",
         "9.59",
         "Minnow",
         "18.71",
         "17.0",
         "Apple Pay",
         "2025-08-08"
        ],
        [
         "27",
         "cc7fffae-d126-4f3b-bbc4-c81213b6bf69",
         "51.0",
         "Male",
         "India",
         "iOS",
         "Card",
         "12",
         "26.29",
         "Minnow",
         "1.15",
         "9.0",
         "Carrier Billing",
         "2025-07-20"
        ],
        [
         "28",
         "03e7dc1d-dfe5-4677-aff4-239b6a60ad7c",
         "18.0",
         "Male",
         "Switzerland",
         "Android",
         "Casual",
         "5",
         "21.01",
         "Dolphin",
         "356.98",
         "18.0",
         "Google Pay",
         "2025-08-02"
        ],
        [
         "29",
         "0d4f2cd8-6cee-4133-8cb2-435a0f6d19ef",
         null,
         "Female",
         "Russia",
         "iOS",
         "Sandbox",
         "15",
         "8.9",
         "Minnow",
         "6.24",
         "13.0",
         "Google Pay",
         "2025-04-09"
        ],
        [
         "30",
         "1afae40f-9b90-4710-a024-13d1d2b4266e",
         "32.0",
         "Male",
         "France",
         "Android",
         "Action RPG",
         "12",
         "14.9",
         "Minnow",
         "19.04",
         "17.0",
         "Debit Card",
         "2025-05-22"
        ],
        [
         "31",
         "2868c7dc-a4bc-4143-8256-334e29ec7458",
         "54.0",
         "Female",
         "USA",
         "Android",
         "Sandbox",
         "13",
         "21.86",
         "Minnow",
         null,
         null,
         null,
         null
        ],
        [
         "32",
         "8b27e55c-6841-4e55-ad1d-a953319e7839",
         "34.0",
         "Female",
         null,
         "Android",
         "Card",
         "11",
         "17.72",
         "Minnow",
         "9.63",
         "26.0",
         "Google Pay",
         "2025-04-27"
        ],
        [
         "33",
         "51632073-5433-48ef-a95f-a519029bb068",
         "30.0",
         "Female",
         "UK",
         "Android",
         "Casual",
         "10",
         "17.36",
         "Minnow",
         "1.52",
         "1.0",
         "Gift Card",
         "2025-07-29"
        ],
        [
         "34",
         "caddf020-37f9-42c6-b9d3-cf256901e2a9",
         "31.0",
         "Female",
         "Netherlands",
         "Android",
         "Adventure",
         "15",
         "21.2",
         "Minnow",
         "12.55",
         "28.0",
         "Gift Card",
         "2025-06-05"
        ],
        [
         "35",
         "3d303a23-7484-45ec-ac02-e7e533b6b1f3",
         "43.0",
         "Male",
         "Canada",
         "iOS",
         "Simulation",
         "9",
         "33.73",
         "Minnow",
         "16.97",
         "12.0",
         "Paypal",
         "2025-02-27"
        ],
        [
         "36",
         "c6301a66-20d3-4bd7-9ba5-664de4f1814b",
         "49.0",
         "Male",
         "South Korea",
         "iOS",
         "Card",
         "11",
         "26.68",
         "Minnow",
         "10.93",
         "24.0",
         "Apple Pay",
         "2025-03-16"
        ],
        [
         "37",
         "9df52d99-a9d8-45d4-804d-d0288f9c88f2",
         "54.0",
         "Male",
         "Norway",
         "Android",
         "Sports",
         "9",
         "23.08",
         "Minnow",
         "13.62",
         "7.0",
         "Credit Card",
         "2025-01-15"
        ],
        [
         "38",
         "078c53b3-d2f8-4587-a779-d66661ed6351",
         "38.0",
         "Male",
         "Norway",
         "iOS",
         "Adventure",
         "9",
         "17.67",
         "Minnow",
         "5.88",
         "19.0",
         "Credit Card",
         "2025-08-12"
        ],
        [
         "39",
         "609ec77e-7c64-4486-a77d-da39f5e21576",
         "17.0",
         "Male",
         "Saudi Arabia",
         "Android",
         "Sandbox",
         "8",
         "29.44",
         "Dolphin",
         "276.54",
         "11.0",
         "Credit Card",
         "2025-01-28"
        ],
        [
         "40",
         "b6208d5f-f05f-4b64-a9be-f0e3262c3952",
         "19.0",
         "Female",
         null,
         "Android",
         "MMORPG",
         "12",
         "19.36",
         "Minnow",
         "18.17",
         "18.0",
         "Google Pay",
         "2025-05-03"
        ],
        [
         "41",
         "cb88b1cf-7ccc-4c4f-98b6-d6906c1bbb20",
         "38.0",
         "Male",
         "Mexico",
         "iOS",
         "Role Playing",
         "7",
         "15.38",
         "Minnow",
         "11.4",
         "19.0",
         "Carrier Billing",
         "2025-07-11"
        ],
        [
         "42",
         "05ef5257-cb10-41a7-93be-616389d660f2",
         "34.0",
         "Male",
         "Australia",
         "iOS",
         "Puzzle",
         "14",
         "14.21",
         "Minnow",
         "4.94",
         "13.0",
         "Gift Card",
         "2025-06-04"
        ],
        [
         "43",
         "daa87ce2-9524-437b-96f5-d862e44ba2a6",
         "20.0",
         "Female",
         "Egypt",
         "iOS",
         "Adventure",
         "12",
         "13.56",
         "Minnow",
         null,
         null,
         null,
         null
        ],
        [
         "44",
         "2059ae35-b1ea-4c2a-bbce-b89233c30938",
         "32.0",
         "Female",
         "India",
         "Android",
         "Sports",
         "11",
         "6.96",
         "Minnow",
         "0.52",
         "3.0",
         "Debit Card",
         "2025-04-10"
        ],
        [
         "45",
         "11826044-01a7-4201-af8a-5a93cc6a9b38",
         "16.0",
         "Female",
         "Spain",
         "Android",
         "Role Playing",
         "7",
         "23.56",
         "Minnow",
         "7.27",
         "17.0",
         "Gift Card",
         "2025-05-28"
        ],
        [
         "46",
         "69f06b32-f62f-4cf8-b5f2-c33c16ec646c",
         "36.0",
         "Male",
         "UK",
         "Android",
         "Action RPG",
         "3",
         "18.42",
         "Minnow",
         "11.75",
         "2.0",
         "Apple Pay",
         "2025-04-22"
        ],
        [
         "47",
         "533679ef-f6a5-450d-858b-92a7a2e10de4",
         "48.0",
         "Female",
         "France",
         "Android",
         "Racing",
         "13",
         "31.13",
         "Minnow",
         "12.61",
         "22.0",
         "Paypal",
         "2025-08-09"
        ],
        [
         "48",
         "5e12bef2-00c7-4634-b3b2-b0926e9cb9fc",
         "35.0",
         "Male",
         "Brazil",
         "Android",
         "Fighting",
         "12",
         "21.19",
         "Dolphin",
         "337.3",
         "5.0",
         "Gift Card",
         "2025-04-30"
        ],
        [
         "49",
         "f60f1c9a-d523-4648-a09c-7928e79fb2be",
         "50.0",
         "Male",
         "UK",
         "iOS",
         "Strategy",
         "9",
         "23.2",
         "Minnow",
         "17.37",
         "3.0",
         "Debit Card",
         "2025-03-06"
        ]
       ],
       "shape": {
        "columns": 13,
        "rows": 3024
       }
      },
      "text/html": [
       "<div>\n",
       "<style scoped>\n",
       "    .dataframe tbody tr th:only-of-type {\n",
       "        vertical-align: middle;\n",
       "    }\n",
       "\n",
       "    .dataframe tbody tr th {\n",
       "        vertical-align: top;\n",
       "    }\n",
       "\n",
       "    .dataframe thead th {\n",
       "        text-align: right;\n",
       "    }\n",
       "</style>\n",
       "<table border=\"1\" class=\"dataframe\">\n",
       "  <thead>\n",
       "    <tr style=\"text-align: right;\">\n",
       "      <th></th>\n",
       "      <th>UserID</th>\n",
       "      <th>Age</th>\n",
       "      <th>Gender</th>\n",
       "      <th>Country</th>\n",
       "      <th>Device</th>\n",
       "      <th>GameGenre</th>\n",
       "      <th>SessionCount</th>\n",
       "      <th>AverageSessionLength</th>\n",
       "      <th>SpendingSegment</th>\n",
       "      <th>InAppPurchaseAmount</th>\n",
       "      <th>FirstPurchaseDaysAfterInstall</th>\n",
       "      <th>PaymentMethod</th>\n",
       "      <th>LastPurchaseDate</th>\n",
       "    </tr>\n",
       "  </thead>\n",
       "  <tbody>\n",
       "    <tr>\n",
       "      <th>0</th>\n",
       "      <td>c9889ab0-9cfc-4a75-acd9-5eab1df0015c</td>\n",
       "      <td>49.0</td>\n",
       "      <td>Male</td>\n",
       "      <td>Norway</td>\n",
       "      <td>Android</td>\n",
       "      <td>Battle Royale</td>\n",
       "      <td>9</td>\n",
       "      <td>12.83</td>\n",
       "      <td>Minnow</td>\n",
       "      <td>11.40</td>\n",
       "      <td>28.0</td>\n",
       "      <td>Apple Pay</td>\n",
       "      <td>2025-03-19</td>\n",
       "    </tr>\n",
       "    <tr>\n",
       "      <th>1</th>\n",
       "      <td>7c9e413c-ecca-45f2-a780-2826a07952a2</td>\n",
       "      <td>15.0</td>\n",
       "      <td>Male</td>\n",
       "      <td>Switzerland</td>\n",
       "      <td>iOS</td>\n",
       "      <td>Action RPG</td>\n",
       "      <td>11</td>\n",
       "      <td>19.39</td>\n",
       "      <td>Minnow</td>\n",
       "      <td>6.37</td>\n",
       "      <td>18.0</td>\n",
       "      <td>Debit Card</td>\n",
       "      <td>2025-06-08</td>\n",
       "    </tr>\n",
       "    <tr>\n",
       "      <th>2</th>\n",
       "      <td>fd61e419-1a92-4f43-a8c7-135842ad328a</td>\n",
       "      <td>23.0</td>\n",
       "      <td>Male</td>\n",
       "      <td>China</td>\n",
       "      <td>Android</td>\n",
       "      <td>Fighting</td>\n",
       "      <td>9</td>\n",
       "      <td>8.87</td>\n",
       "      <td>Minnow</td>\n",
       "      <td>15.81</td>\n",
       "      <td>30.0</td>\n",
       "      <td>Apple Pay</td>\n",
       "      <td>2025-06-02</td>\n",
       "    </tr>\n",
       "    <tr>\n",
       "      <th>3</th>\n",
       "      <td>bdb7f6d1-ff9a-468c-afe7-43f32a94293e</td>\n",
       "      <td>31.0</td>\n",
       "      <td>Male</td>\n",
       "      <td>Mexico</td>\n",
       "      <td>Android</td>\n",
       "      <td>Racing</td>\n",
       "      <td>12</td>\n",
       "      <td>19.56</td>\n",
       "      <td>Minnow</td>\n",
       "      <td>13.49</td>\n",
       "      <td>9.0</td>\n",
       "      <td>Debit Card</td>\n",
       "      <td>2025-04-01</td>\n",
       "    </tr>\n",
       "    <tr>\n",
       "      <th>4</th>\n",
       "      <td>aa7eec14-4846-47b9-b879-9c98038cda04</td>\n",
       "      <td>37.0</td>\n",
       "      <td>Female</td>\n",
       "      <td>India</td>\n",
       "      <td>Android</td>\n",
       "      <td>Battle Royale</td>\n",
       "      <td>10</td>\n",
       "      <td>15.23</td>\n",
       "      <td>Minnow</td>\n",
       "      <td>10.86</td>\n",
       "      <td>15.0</td>\n",
       "      <td>Paypal</td>\n",
       "      <td>2025-05-05</td>\n",
       "    </tr>\n",
       "    <tr>\n",
       "      <th>...</th>\n",
       "      <td>...</td>\n",
       "      <td>...</td>\n",
       "      <td>...</td>\n",
       "      <td>...</td>\n",
       "      <td>...</td>\n",
       "      <td>...</td>\n",
       "      <td>...</td>\n",
       "      <td>...</td>\n",
       "      <td>...</td>\n",
       "      <td>...</td>\n",
       "      <td>...</td>\n",
       "      <td>...</td>\n",
       "      <td>...</td>\n",
       "    </tr>\n",
       "    <tr>\n",
       "      <th>3019</th>\n",
       "      <td>29f9fea9-591d-4e9f-a662-958655d3eb4a</td>\n",
       "      <td>19.0</td>\n",
       "      <td>Female</td>\n",
       "      <td>Iran</td>\n",
       "      <td>Android</td>\n",
       "      <td>Fighting</td>\n",
       "      <td>7</td>\n",
       "      <td>34.81</td>\n",
       "      <td>Minnow</td>\n",
       "      <td>12.48</td>\n",
       "      <td>16.0</td>\n",
       "      <td>Google Pay</td>\n",
       "      <td>2025-05-28</td>\n",
       "    </tr>\n",
       "    <tr>\n",
       "      <th>3020</th>\n",
       "      <td>c906eb00-fb33-4bf2-97a4-311634cd0d7a</td>\n",
       "      <td>48.0</td>\n",
       "      <td>Male</td>\n",
       "      <td>Switzerland</td>\n",
       "      <td>iOS</td>\n",
       "      <td>Adventure</td>\n",
       "      <td>9</td>\n",
       "      <td>19.45</td>\n",
       "      <td>Minnow</td>\n",
       "      <td>14.77</td>\n",
       "      <td>14.0</td>\n",
       "      <td>Carrier Billing</td>\n",
       "      <td>2025-07-25</td>\n",
       "    </tr>\n",
       "    <tr>\n",
       "      <th>3021</th>\n",
       "      <td>26e17717-ebec-42a9-aae2-2eff66888119</td>\n",
       "      <td>44.0</td>\n",
       "      <td>Male</td>\n",
       "      <td>France</td>\n",
       "      <td>Android</td>\n",
       "      <td>Card</td>\n",
       "      <td>15</td>\n",
       "      <td>20.54</td>\n",
       "      <td>Minnow</td>\n",
       "      <td>16.69</td>\n",
       "      <td>24.0</td>\n",
       "      <td>Gift Card</td>\n",
       "      <td>2025-01-25</td>\n",
       "    </tr>\n",
       "    <tr>\n",
       "      <th>3022</th>\n",
       "      <td>4d6e2bfb-cb11-411a-942c-4fb7a4832088</td>\n",
       "      <td>45.0</td>\n",
       "      <td>Male</td>\n",
       "      <td>Sweden</td>\n",
       "      <td>iOS</td>\n",
       "      <td>Fighting</td>\n",
       "      <td>8</td>\n",
       "      <td>14.48</td>\n",
       "      <td>Minnow</td>\n",
       "      <td>17.29</td>\n",
       "      <td>15.0</td>\n",
       "      <td>Paypal</td>\n",
       "      <td>2025-05-07</td>\n",
       "    </tr>\n",
       "    <tr>\n",
       "      <th>3023</th>\n",
       "      <td>37935b2e-9b5d-4a30-bf0f-751d105e31e3</td>\n",
       "      <td>22.0</td>\n",
       "      <td>Male</td>\n",
       "      <td>Egypt</td>\n",
       "      <td>Android</td>\n",
       "      <td>Adventure</td>\n",
       "      <td>10</td>\n",
       "      <td>28.54</td>\n",
       "      <td>Minnow</td>\n",
       "      <td>4.11</td>\n",
       "      <td>30.0</td>\n",
       "      <td>Carrier Billing</td>\n",
       "      <td>2025-07-06</td>\n",
       "    </tr>\n",
       "  </tbody>\n",
       "</table>\n",
       "<p>3024 rows × 13 columns</p>\n",
       "</div>"
      ],
      "text/plain": [
       "                                    UserID   Age  Gender      Country  \\\n",
       "0     c9889ab0-9cfc-4a75-acd9-5eab1df0015c  49.0    Male       Norway   \n",
       "1     7c9e413c-ecca-45f2-a780-2826a07952a2  15.0    Male  Switzerland   \n",
       "2     fd61e419-1a92-4f43-a8c7-135842ad328a  23.0    Male        China   \n",
       "3     bdb7f6d1-ff9a-468c-afe7-43f32a94293e  31.0    Male       Mexico   \n",
       "4     aa7eec14-4846-47b9-b879-9c98038cda04  37.0  Female        India   \n",
       "...                                    ...   ...     ...          ...   \n",
       "3019  29f9fea9-591d-4e9f-a662-958655d3eb4a  19.0  Female         Iran   \n",
       "3020  c906eb00-fb33-4bf2-97a4-311634cd0d7a  48.0    Male  Switzerland   \n",
       "3021  26e17717-ebec-42a9-aae2-2eff66888119  44.0    Male       France   \n",
       "3022  4d6e2bfb-cb11-411a-942c-4fb7a4832088  45.0    Male       Sweden   \n",
       "3023  37935b2e-9b5d-4a30-bf0f-751d105e31e3  22.0    Male        Egypt   \n",
       "\n",
       "       Device      GameGenre  SessionCount  AverageSessionLength  \\\n",
       "0     Android  Battle Royale             9                 12.83   \n",
       "1         iOS     Action RPG            11                 19.39   \n",
       "2     Android       Fighting             9                  8.87   \n",
       "3     Android         Racing            12                 19.56   \n",
       "4     Android  Battle Royale            10                 15.23   \n",
       "...       ...            ...           ...                   ...   \n",
       "3019  Android       Fighting             7                 34.81   \n",
       "3020      iOS      Adventure             9                 19.45   \n",
       "3021  Android           Card            15                 20.54   \n",
       "3022      iOS       Fighting             8                 14.48   \n",
       "3023  Android      Adventure            10                 28.54   \n",
       "\n",
       "     SpendingSegment  InAppPurchaseAmount  FirstPurchaseDaysAfterInstall  \\\n",
       "0             Minnow                11.40                           28.0   \n",
       "1             Minnow                 6.37                           18.0   \n",
       "2             Minnow                15.81                           30.0   \n",
       "3             Minnow                13.49                            9.0   \n",
       "4             Minnow                10.86                           15.0   \n",
       "...              ...                  ...                            ...   \n",
       "3019          Minnow                12.48                           16.0   \n",
       "3020          Minnow                14.77                           14.0   \n",
       "3021          Minnow                16.69                           24.0   \n",
       "3022          Minnow                17.29                           15.0   \n",
       "3023          Minnow                 4.11                           30.0   \n",
       "\n",
       "        PaymentMethod LastPurchaseDate  \n",
       "0           Apple Pay       2025-03-19  \n",
       "1          Debit Card       2025-06-08  \n",
       "2           Apple Pay       2025-06-02  \n",
       "3          Debit Card       2025-04-01  \n",
       "4              Paypal       2025-05-05  \n",
       "...               ...              ...  \n",
       "3019       Google Pay       2025-05-28  \n",
       "3020  Carrier Billing       2025-07-25  \n",
       "3021        Gift Card       2025-01-25  \n",
       "3022           Paypal       2025-05-07  \n",
       "3023  Carrier Billing       2025-07-06  \n",
       "\n",
       "[3024 rows x 13 columns]"
      ]
     },
     "execution_count": 3,
     "metadata": {},
     "output_type": "execute_result"
    }
   ],
   "source": [
    "df"
   ]
  },
  {
   "cell_type": "code",
   "execution_count": 4,
   "id": "29779952",
   "metadata": {},
   "outputs": [
    {
     "data": {
      "text/plain": [
       "(3024, 13)"
      ]
     },
     "execution_count": 4,
     "metadata": {},
     "output_type": "execute_result"
    }
   ],
   "source": [
    "df.shape"
   ]
  },
  {
   "cell_type": "code",
   "execution_count": 5,
   "id": "b7430b69",
   "metadata": {},
   "outputs": [
    {
     "name": "stdout",
     "output_type": "stream",
     "text": [
      "<class 'pandas.core.frame.DataFrame'>\n",
      "RangeIndex: 3024 entries, 0 to 3023\n",
      "Data columns (total 13 columns):\n",
      " #   Column                         Non-Null Count  Dtype  \n",
      "---  ------                         --------------  -----  \n",
      " 0   UserID                         3024 non-null   object \n",
      " 1   Age                            2964 non-null   float64\n",
      " 2   Gender                         2964 non-null   object \n",
      " 3   Country                        2964 non-null   object \n",
      " 4   Device                         2964 non-null   object \n",
      " 5   GameGenre                      2964 non-null   object \n",
      " 6   SessionCount                   3024 non-null   int64  \n",
      " 7   AverageSessionLength           3024 non-null   float64\n",
      " 8   SpendingSegment                3024 non-null   object \n",
      " 9   InAppPurchaseAmount            2888 non-null   float64\n",
      " 10  FirstPurchaseDaysAfterInstall  2888 non-null   float64\n",
      " 11  PaymentMethod                  2888 non-null   object \n",
      " 12  LastPurchaseDate               2888 non-null   object \n",
      "dtypes: float64(4), int64(1), object(8)\n",
      "memory usage: 307.2+ KB\n"
     ]
    }
   ],
   "source": [
    "df.info()"
   ]
  },
  {
   "cell_type": "code",
   "execution_count": 6,
   "id": "12175094",
   "metadata": {},
   "outputs": [
    {
     "data": {
      "application/vnd.microsoft.datawrangler.viewer.v0+json": {
       "columns": [
        {
         "name": "index",
         "rawType": "object",
         "type": "string"
        },
        {
         "name": "0",
         "rawType": "int64",
         "type": "integer"
        }
       ],
       "ref": "1d86802f-18b8-45ff-b993-02f00a5b579e",
       "rows": [
        [
         "UserID",
         "0"
        ],
        [
         "Age",
         "60"
        ],
        [
         "Gender",
         "60"
        ],
        [
         "Country",
         "60"
        ],
        [
         "Device",
         "60"
        ],
        [
         "GameGenre",
         "60"
        ],
        [
         "SessionCount",
         "0"
        ],
        [
         "AverageSessionLength",
         "0"
        ],
        [
         "SpendingSegment",
         "0"
        ],
        [
         "InAppPurchaseAmount",
         "136"
        ],
        [
         "FirstPurchaseDaysAfterInstall",
         "136"
        ],
        [
         "PaymentMethod",
         "136"
        ],
        [
         "LastPurchaseDate",
         "136"
        ]
       ],
       "shape": {
        "columns": 1,
        "rows": 13
       }
      },
      "text/plain": [
       "UserID                             0\n",
       "Age                               60\n",
       "Gender                            60\n",
       "Country                           60\n",
       "Device                            60\n",
       "GameGenre                         60\n",
       "SessionCount                       0\n",
       "AverageSessionLength               0\n",
       "SpendingSegment                    0\n",
       "InAppPurchaseAmount              136\n",
       "FirstPurchaseDaysAfterInstall    136\n",
       "PaymentMethod                    136\n",
       "LastPurchaseDate                 136\n",
       "dtype: int64"
      ]
     },
     "execution_count": 6,
     "metadata": {},
     "output_type": "execute_result"
    }
   ],
   "source": [
    "df.isnull().sum()"
   ]
  },
  {
   "cell_type": "code",
   "execution_count": 7,
   "id": "84edf90e",
   "metadata": {},
   "outputs": [
    {
     "data": {
      "text/plain": [
       "Index(['UserID', 'Age', 'Gender', 'Country', 'Device', 'GameGenre',\n",
       "       'SessionCount', 'AverageSessionLength', 'SpendingSegment',\n",
       "       'InAppPurchaseAmount', 'FirstPurchaseDaysAfterInstall', 'PaymentMethod',\n",
       "       'LastPurchaseDate'],\n",
       "      dtype='object')"
      ]
     },
     "execution_count": 7,
     "metadata": {},
     "output_type": "execute_result"
    }
   ],
   "source": [
    "df.columns"
   ]
  },
  {
   "cell_type": "code",
   "execution_count": 8,
   "id": "0647ede4",
   "metadata": {},
   "outputs": [
    {
     "data": {
      "application/vnd.microsoft.datawrangler.viewer.v0+json": {
       "columns": [
        {
         "name": "index",
         "rawType": "int64",
         "type": "integer"
        },
        {
         "name": "UserID",
         "rawType": "object",
         "type": "string"
        },
        {
         "name": "Age",
         "rawType": "float64",
         "type": "float"
        },
        {
         "name": "Gender",
         "rawType": "object",
         "type": "string"
        },
        {
         "name": "Country",
         "rawType": "object",
         "type": "string"
        },
        {
         "name": "Device",
         "rawType": "object",
         "type": "string"
        },
        {
         "name": "GameGenre",
         "rawType": "object",
         "type": "unknown"
        },
        {
         "name": "SessionCount",
         "rawType": "int64",
         "type": "integer"
        },
        {
         "name": "AverageSessionLength",
         "rawType": "float64",
         "type": "float"
        },
        {
         "name": "SpendingSegment",
         "rawType": "object",
         "type": "string"
        },
        {
         "name": "InAppPurchaseAmount",
         "rawType": "float64",
         "type": "float"
        },
        {
         "name": "FirstPurchaseDaysAfterInstall",
         "rawType": "float64",
         "type": "float"
        },
        {
         "name": "PaymentMethod",
         "rawType": "object",
         "type": "string"
        },
        {
         "name": "LastPurchaseDate",
         "rawType": "object",
         "type": "string"
        }
       ],
       "ref": "15a14ef3-a1da-4ca4-8bfc-9a35a5a9c956",
       "rows": [
        [
         "0",
         "c9889ab0-9cfc-4a75-acd9-5eab1df0015c",
         "49.0",
         "Male",
         "Norway",
         "Android",
         "Battle Royale",
         "9",
         "12.83",
         "Minnow",
         "11.4",
         "28.0",
         "Apple Pay",
         "2025-03-19"
        ],
        [
         "1",
         "7c9e413c-ecca-45f2-a780-2826a07952a2",
         "15.0",
         "Male",
         "Switzerland",
         "iOS",
         "Action RPG",
         "11",
         "19.39",
         "Minnow",
         "6.37",
         "18.0",
         "Debit Card",
         "2025-06-08"
        ],
        [
         "2",
         "fd61e419-1a92-4f43-a8c7-135842ad328a",
         "23.0",
         "Male",
         "China",
         "Android",
         "Fighting",
         "9",
         "8.87",
         "Minnow",
         "15.81",
         "30.0",
         "Apple Pay",
         "2025-06-02"
        ],
        [
         "3",
         "bdb7f6d1-ff9a-468c-afe7-43f32a94293e",
         "31.0",
         "Male",
         "Mexico",
         "Android",
         "Racing",
         "12",
         "19.56",
         "Minnow",
         "13.49",
         "9.0",
         "Debit Card",
         "2025-04-01"
        ],
        [
         "4",
         "aa7eec14-4846-47b9-b879-9c98038cda04",
         "37.0",
         "Female",
         "India",
         "Android",
         "Battle Royale",
         "10",
         "15.23",
         "Minnow",
         "10.86",
         "15.0",
         "Paypal",
         "2025-05-05"
        ],
        [
         "5",
         "992232c1-a563-4986-aa8b-b70d687d374f",
         "38.0",
         "Female",
         "China",
         "Android",
         "Fighting",
         "16",
         "25.97",
         "Dolphin",
         "150.51",
         "28.0",
         "Google Pay",
         "2025-05-05"
        ],
        [
         "6",
         "702bafd0-9a08-4269-801e-faf32f9f3ca5",
         "20.0",
         "Female",
         "Italy",
         "Android",
         "Simulation",
         "9",
         "10.98",
         "Whale",
         "608.21",
         "24.0",
         "Debit Card",
         "2025-06-04"
        ],
        [
         "7",
         "fc470ea9-111f-4637-a9ff-7162d81e2ec3",
         "34.0",
         "Female",
         "Denmark",
         "iOS",
         null,
         "15",
         "5.06",
         "Minnow",
         "19.17",
         "30.0",
         "Gift Card",
         "2025-04-26"
        ],
        [
         "8",
         "9b2efc1e-cd4b-48ab-b893-438d57855efa",
         "38.0",
         "Male",
         "Japan",
         "Android",
         "Action RPG",
         "10",
         "21.82",
         "Minnow",
         "11.52",
         "1.0",
         "Paypal",
         "2025-04-08"
        ],
        [
         "9",
         "25723b60-ea5b-4aff-9f23-97fdf5e98c58",
         "46.0",
         "Male",
         "Russia",
         "iOS",
         "Battle Royale",
         "18",
         "16.36",
         "Minnow",
         "7.76",
         "19.0",
         "Google Pay",
         "2025-02-03"
        ]
       ],
       "shape": {
        "columns": 13,
        "rows": 10
       }
      },
      "text/html": [
       "<div>\n",
       "<style scoped>\n",
       "    .dataframe tbody tr th:only-of-type {\n",
       "        vertical-align: middle;\n",
       "    }\n",
       "\n",
       "    .dataframe tbody tr th {\n",
       "        vertical-align: top;\n",
       "    }\n",
       "\n",
       "    .dataframe thead th {\n",
       "        text-align: right;\n",
       "    }\n",
       "</style>\n",
       "<table border=\"1\" class=\"dataframe\">\n",
       "  <thead>\n",
       "    <tr style=\"text-align: right;\">\n",
       "      <th></th>\n",
       "      <th>UserID</th>\n",
       "      <th>Age</th>\n",
       "      <th>Gender</th>\n",
       "      <th>Country</th>\n",
       "      <th>Device</th>\n",
       "      <th>GameGenre</th>\n",
       "      <th>SessionCount</th>\n",
       "      <th>AverageSessionLength</th>\n",
       "      <th>SpendingSegment</th>\n",
       "      <th>InAppPurchaseAmount</th>\n",
       "      <th>FirstPurchaseDaysAfterInstall</th>\n",
       "      <th>PaymentMethod</th>\n",
       "      <th>LastPurchaseDate</th>\n",
       "    </tr>\n",
       "  </thead>\n",
       "  <tbody>\n",
       "    <tr>\n",
       "      <th>0</th>\n",
       "      <td>c9889ab0-9cfc-4a75-acd9-5eab1df0015c</td>\n",
       "      <td>49.0</td>\n",
       "      <td>Male</td>\n",
       "      <td>Norway</td>\n",
       "      <td>Android</td>\n",
       "      <td>Battle Royale</td>\n",
       "      <td>9</td>\n",
       "      <td>12.83</td>\n",
       "      <td>Minnow</td>\n",
       "      <td>11.40</td>\n",
       "      <td>28.0</td>\n",
       "      <td>Apple Pay</td>\n",
       "      <td>2025-03-19</td>\n",
       "    </tr>\n",
       "    <tr>\n",
       "      <th>1</th>\n",
       "      <td>7c9e413c-ecca-45f2-a780-2826a07952a2</td>\n",
       "      <td>15.0</td>\n",
       "      <td>Male</td>\n",
       "      <td>Switzerland</td>\n",
       "      <td>iOS</td>\n",
       "      <td>Action RPG</td>\n",
       "      <td>11</td>\n",
       "      <td>19.39</td>\n",
       "      <td>Minnow</td>\n",
       "      <td>6.37</td>\n",
       "      <td>18.0</td>\n",
       "      <td>Debit Card</td>\n",
       "      <td>2025-06-08</td>\n",
       "    </tr>\n",
       "    <tr>\n",
       "      <th>2</th>\n",
       "      <td>fd61e419-1a92-4f43-a8c7-135842ad328a</td>\n",
       "      <td>23.0</td>\n",
       "      <td>Male</td>\n",
       "      <td>China</td>\n",
       "      <td>Android</td>\n",
       "      <td>Fighting</td>\n",
       "      <td>9</td>\n",
       "      <td>8.87</td>\n",
       "      <td>Minnow</td>\n",
       "      <td>15.81</td>\n",
       "      <td>30.0</td>\n",
       "      <td>Apple Pay</td>\n",
       "      <td>2025-06-02</td>\n",
       "    </tr>\n",
       "    <tr>\n",
       "      <th>3</th>\n",
       "      <td>bdb7f6d1-ff9a-468c-afe7-43f32a94293e</td>\n",
       "      <td>31.0</td>\n",
       "      <td>Male</td>\n",
       "      <td>Mexico</td>\n",
       "      <td>Android</td>\n",
       "      <td>Racing</td>\n",
       "      <td>12</td>\n",
       "      <td>19.56</td>\n",
       "      <td>Minnow</td>\n",
       "      <td>13.49</td>\n",
       "      <td>9.0</td>\n",
       "      <td>Debit Card</td>\n",
       "      <td>2025-04-01</td>\n",
       "    </tr>\n",
       "    <tr>\n",
       "      <th>4</th>\n",
       "      <td>aa7eec14-4846-47b9-b879-9c98038cda04</td>\n",
       "      <td>37.0</td>\n",
       "      <td>Female</td>\n",
       "      <td>India</td>\n",
       "      <td>Android</td>\n",
       "      <td>Battle Royale</td>\n",
       "      <td>10</td>\n",
       "      <td>15.23</td>\n",
       "      <td>Minnow</td>\n",
       "      <td>10.86</td>\n",
       "      <td>15.0</td>\n",
       "      <td>Paypal</td>\n",
       "      <td>2025-05-05</td>\n",
       "    </tr>\n",
       "    <tr>\n",
       "      <th>5</th>\n",
       "      <td>992232c1-a563-4986-aa8b-b70d687d374f</td>\n",
       "      <td>38.0</td>\n",
       "      <td>Female</td>\n",
       "      <td>China</td>\n",
       "      <td>Android</td>\n",
       "      <td>Fighting</td>\n",
       "      <td>16</td>\n",
       "      <td>25.97</td>\n",
       "      <td>Dolphin</td>\n",
       "      <td>150.51</td>\n",
       "      <td>28.0</td>\n",
       "      <td>Google Pay</td>\n",
       "      <td>2025-05-05</td>\n",
       "    </tr>\n",
       "    <tr>\n",
       "      <th>6</th>\n",
       "      <td>702bafd0-9a08-4269-801e-faf32f9f3ca5</td>\n",
       "      <td>20.0</td>\n",
       "      <td>Female</td>\n",
       "      <td>Italy</td>\n",
       "      <td>Android</td>\n",
       "      <td>Simulation</td>\n",
       "      <td>9</td>\n",
       "      <td>10.98</td>\n",
       "      <td>Whale</td>\n",
       "      <td>608.21</td>\n",
       "      <td>24.0</td>\n",
       "      <td>Debit Card</td>\n",
       "      <td>2025-06-04</td>\n",
       "    </tr>\n",
       "    <tr>\n",
       "      <th>7</th>\n",
       "      <td>fc470ea9-111f-4637-a9ff-7162d81e2ec3</td>\n",
       "      <td>34.0</td>\n",
       "      <td>Female</td>\n",
       "      <td>Denmark</td>\n",
       "      <td>iOS</td>\n",
       "      <td>NaN</td>\n",
       "      <td>15</td>\n",
       "      <td>5.06</td>\n",
       "      <td>Minnow</td>\n",
       "      <td>19.17</td>\n",
       "      <td>30.0</td>\n",
       "      <td>Gift Card</td>\n",
       "      <td>2025-04-26</td>\n",
       "    </tr>\n",
       "    <tr>\n",
       "      <th>8</th>\n",
       "      <td>9b2efc1e-cd4b-48ab-b893-438d57855efa</td>\n",
       "      <td>38.0</td>\n",
       "      <td>Male</td>\n",
       "      <td>Japan</td>\n",
       "      <td>Android</td>\n",
       "      <td>Action RPG</td>\n",
       "      <td>10</td>\n",
       "      <td>21.82</td>\n",
       "      <td>Minnow</td>\n",
       "      <td>11.52</td>\n",
       "      <td>1.0</td>\n",
       "      <td>Paypal</td>\n",
       "      <td>2025-04-08</td>\n",
       "    </tr>\n",
       "    <tr>\n",
       "      <th>9</th>\n",
       "      <td>25723b60-ea5b-4aff-9f23-97fdf5e98c58</td>\n",
       "      <td>46.0</td>\n",
       "      <td>Male</td>\n",
       "      <td>Russia</td>\n",
       "      <td>iOS</td>\n",
       "      <td>Battle Royale</td>\n",
       "      <td>18</td>\n",
       "      <td>16.36</td>\n",
       "      <td>Minnow</td>\n",
       "      <td>7.76</td>\n",
       "      <td>19.0</td>\n",
       "      <td>Google Pay</td>\n",
       "      <td>2025-02-03</td>\n",
       "    </tr>\n",
       "  </tbody>\n",
       "</table>\n",
       "</div>"
      ],
      "text/plain": [
       "                                 UserID   Age  Gender      Country   Device  \\\n",
       "0  c9889ab0-9cfc-4a75-acd9-5eab1df0015c  49.0    Male       Norway  Android   \n",
       "1  7c9e413c-ecca-45f2-a780-2826a07952a2  15.0    Male  Switzerland      iOS   \n",
       "2  fd61e419-1a92-4f43-a8c7-135842ad328a  23.0    Male        China  Android   \n",
       "3  bdb7f6d1-ff9a-468c-afe7-43f32a94293e  31.0    Male       Mexico  Android   \n",
       "4  aa7eec14-4846-47b9-b879-9c98038cda04  37.0  Female        India  Android   \n",
       "5  992232c1-a563-4986-aa8b-b70d687d374f  38.0  Female        China  Android   \n",
       "6  702bafd0-9a08-4269-801e-faf32f9f3ca5  20.0  Female        Italy  Android   \n",
       "7  fc470ea9-111f-4637-a9ff-7162d81e2ec3  34.0  Female      Denmark      iOS   \n",
       "8  9b2efc1e-cd4b-48ab-b893-438d57855efa  38.0    Male        Japan  Android   \n",
       "9  25723b60-ea5b-4aff-9f23-97fdf5e98c58  46.0    Male       Russia      iOS   \n",
       "\n",
       "       GameGenre  SessionCount  AverageSessionLength SpendingSegment  \\\n",
       "0  Battle Royale             9                 12.83          Minnow   \n",
       "1     Action RPG            11                 19.39          Minnow   \n",
       "2       Fighting             9                  8.87          Minnow   \n",
       "3         Racing            12                 19.56          Minnow   \n",
       "4  Battle Royale            10                 15.23          Minnow   \n",
       "5       Fighting            16                 25.97         Dolphin   \n",
       "6     Simulation             9                 10.98           Whale   \n",
       "7            NaN            15                  5.06          Minnow   \n",
       "8     Action RPG            10                 21.82          Minnow   \n",
       "9  Battle Royale            18                 16.36          Minnow   \n",
       "\n",
       "   InAppPurchaseAmount  FirstPurchaseDaysAfterInstall PaymentMethod  \\\n",
       "0                11.40                           28.0     Apple Pay   \n",
       "1                 6.37                           18.0    Debit Card   \n",
       "2                15.81                           30.0     Apple Pay   \n",
       "3                13.49                            9.0    Debit Card   \n",
       "4                10.86                           15.0        Paypal   \n",
       "5               150.51                           28.0    Google Pay   \n",
       "6               608.21                           24.0    Debit Card   \n",
       "7                19.17                           30.0     Gift Card   \n",
       "8                11.52                            1.0        Paypal   \n",
       "9                 7.76                           19.0    Google Pay   \n",
       "\n",
       "  LastPurchaseDate  \n",
       "0       2025-03-19  \n",
       "1       2025-06-08  \n",
       "2       2025-06-02  \n",
       "3       2025-04-01  \n",
       "4       2025-05-05  \n",
       "5       2025-05-05  \n",
       "6       2025-06-04  \n",
       "7       2025-04-26  \n",
       "8       2025-04-08  \n",
       "9       2025-02-03  "
      ]
     },
     "execution_count": 8,
     "metadata": {},
     "output_type": "execute_result"
    }
   ],
   "source": [
    "df.head(10)"
   ]
  },
  {
   "cell_type": "code",
   "execution_count": 9,
   "id": "7268531b",
   "metadata": {},
   "outputs": [
    {
     "data": {
      "text/plain": [
       "Index(['UserID', 'Age', 'Gender', 'Country', 'Device', 'GameGenre',\n",
       "       'SessionCount', 'AverageSessionLength', 'SpendingSegment',\n",
       "       'InAppPurchaseAmount', 'FirstPurchaseDaysAfterInstall', 'PaymentMethod',\n",
       "       'LastPurchaseDate'],\n",
       "      dtype='object')"
      ]
     },
     "execution_count": 9,
     "metadata": {},
     "output_type": "execute_result"
    }
   ],
   "source": [
    "df.columns"
   ]
  },
  {
   "cell_type": "code",
   "execution_count": 10,
   "id": "04a832a6",
   "metadata": {},
   "outputs": [],
   "source": [
    "df2=df.drop(['UserID','Gender','Country','SessionCount','AverageSessionLength','PaymentMethod'],axis=1).copy()"
   ]
  },
  {
   "cell_type": "code",
   "execution_count": 11,
   "id": "bd01b7c1",
   "metadata": {},
   "outputs": [
    {
     "data": {
      "application/vnd.microsoft.datawrangler.viewer.v0+json": {
       "columns": [
        {
         "name": "index",
         "rawType": "int64",
         "type": "integer"
        },
        {
         "name": "Age",
         "rawType": "float64",
         "type": "float"
        },
        {
         "name": "Device",
         "rawType": "object",
         "type": "unknown"
        },
        {
         "name": "GameGenre",
         "rawType": "object",
         "type": "unknown"
        },
        {
         "name": "SpendingSegment",
         "rawType": "object",
         "type": "string"
        },
        {
         "name": "InAppPurchaseAmount",
         "rawType": "float64",
         "type": "float"
        },
        {
         "name": "FirstPurchaseDaysAfterInstall",
         "rawType": "float64",
         "type": "float"
        },
        {
         "name": "LastPurchaseDate",
         "rawType": "object",
         "type": "unknown"
        }
       ],
       "ref": "a60107a4-29b9-45d6-bf86-1d36c8cafe56",
       "rows": [
        [
         "0",
         "49.0",
         "Android",
         "Battle Royale",
         "Minnow",
         "11.4",
         "28.0",
         "2025-03-19"
        ],
        [
         "1",
         "15.0",
         "iOS",
         "Action RPG",
         "Minnow",
         "6.37",
         "18.0",
         "2025-06-08"
        ],
        [
         "2",
         "23.0",
         "Android",
         "Fighting",
         "Minnow",
         "15.81",
         "30.0",
         "2025-06-02"
        ],
        [
         "3",
         "31.0",
         "Android",
         "Racing",
         "Minnow",
         "13.49",
         "9.0",
         "2025-04-01"
        ],
        [
         "4",
         "37.0",
         "Android",
         "Battle Royale",
         "Minnow",
         "10.86",
         "15.0",
         "2025-05-05"
        ],
        [
         "5",
         "38.0",
         "Android",
         "Fighting",
         "Dolphin",
         "150.51",
         "28.0",
         "2025-05-05"
        ],
        [
         "6",
         "20.0",
         "Android",
         "Simulation",
         "Whale",
         "608.21",
         "24.0",
         "2025-06-04"
        ],
        [
         "7",
         "34.0",
         "iOS",
         null,
         "Minnow",
         "19.17",
         "30.0",
         "2025-04-26"
        ],
        [
         "8",
         "38.0",
         "Android",
         "Action RPG",
         "Minnow",
         "11.52",
         "1.0",
         "2025-04-08"
        ],
        [
         "9",
         "46.0",
         "iOS",
         "Battle Royale",
         "Minnow",
         "7.76",
         "19.0",
         "2025-02-03"
        ],
        [
         "10",
         "29.0",
         "iOS",
         "MMORPG",
         "Minnow",
         "13.44",
         "12.0",
         "2025-05-06"
        ],
        [
         "11",
         "31.0",
         "Android",
         "Simulation",
         "Dolphin",
         null,
         null,
         null
        ],
        [
         "12",
         "30.0",
         "Android",
         "Role Playing",
         "Minnow",
         "6.06",
         "28.0",
         "2025-07-26"
        ],
        [
         "13",
         "24.0",
         "Android",
         "Fighting",
         "Minnow",
         "5.9",
         "27.0",
         "2025-08-06"
        ],
        [
         "14",
         "21.0",
         "iOS",
         "Sports",
         "Minnow",
         "13.78",
         "20.0",
         "2025-06-28"
        ],
        [
         "15",
         "35.0",
         "Android",
         "Action RPG",
         "Minnow",
         "6.9",
         "1.0",
         "2025-01-19"
        ],
        [
         "16",
         "37.0",
         "iOS",
         "Card",
         "Minnow",
         "6.17",
         "11.0",
         "2025-06-07"
        ],
        [
         "17",
         "45.0",
         "Android",
         "Sandbox",
         "Minnow",
         "11.83",
         "16.0",
         "2025-02-14"
        ],
        [
         "18",
         "14.0",
         "iOS",
         "Racing",
         "Whale",
         "3454.51",
         "22.0",
         "2025-01-01"
        ],
        [
         "19",
         "47.0",
         "iOS",
         "Fighting",
         "Minnow",
         "13.4",
         "19.0",
         "2025-03-13"
        ],
        [
         "20",
         "35.0",
         "Android",
         "Simulation",
         "Minnow",
         "17.37",
         "14.0",
         "2025-03-26"
        ],
        [
         "21",
         "14.0",
         "iOS",
         "Puzzle",
         "Whale",
         "4302.61",
         "30.0",
         "2025-04-08"
        ],
        [
         "22",
         "21.0",
         "Android",
         "Strategy",
         "Whale",
         "1945.86",
         "19.0",
         "2025-02-07"
        ],
        [
         "23",
         "54.0",
         "iOS",
         "Role Playing",
         "Minnow",
         "8.36",
         "27.0",
         "2025-03-18"
        ],
        [
         "24",
         "47.0",
         "Android",
         "Simulation",
         "Minnow",
         "3.71",
         "22.0",
         "2025-07-24"
        ],
        [
         "25",
         "52.0",
         "Android",
         "Strategy",
         "Dolphin",
         "393.62",
         "17.0",
         "2025-02-09"
        ],
        [
         "26",
         "25.0",
         "iOS",
         "Fighting",
         "Minnow",
         "18.71",
         "17.0",
         "2025-08-08"
        ],
        [
         "27",
         "51.0",
         "iOS",
         "Card",
         "Minnow",
         "1.15",
         "9.0",
         "2025-07-20"
        ],
        [
         "28",
         "18.0",
         "Android",
         "Casual",
         "Dolphin",
         "356.98",
         "18.0",
         "2025-08-02"
        ],
        [
         "29",
         null,
         "iOS",
         "Sandbox",
         "Minnow",
         "6.24",
         "13.0",
         "2025-04-09"
        ],
        [
         "30",
         "32.0",
         "Android",
         "Action RPG",
         "Minnow",
         "19.04",
         "17.0",
         "2025-05-22"
        ],
        [
         "31",
         "54.0",
         "Android",
         "Sandbox",
         "Minnow",
         null,
         null,
         null
        ],
        [
         "32",
         "34.0",
         "Android",
         "Card",
         "Minnow",
         "9.63",
         "26.0",
         "2025-04-27"
        ],
        [
         "33",
         "30.0",
         "Android",
         "Casual",
         "Minnow",
         "1.52",
         "1.0",
         "2025-07-29"
        ],
        [
         "34",
         "31.0",
         "Android",
         "Adventure",
         "Minnow",
         "12.55",
         "28.0",
         "2025-06-05"
        ],
        [
         "35",
         "43.0",
         "iOS",
         "Simulation",
         "Minnow",
         "16.97",
         "12.0",
         "2025-02-27"
        ],
        [
         "36",
         "49.0",
         "iOS",
         "Card",
         "Minnow",
         "10.93",
         "24.0",
         "2025-03-16"
        ],
        [
         "37",
         "54.0",
         "Android",
         "Sports",
         "Minnow",
         "13.62",
         "7.0",
         "2025-01-15"
        ],
        [
         "38",
         "38.0",
         "iOS",
         "Adventure",
         "Minnow",
         "5.88",
         "19.0",
         "2025-08-12"
        ],
        [
         "39",
         "17.0",
         "Android",
         "Sandbox",
         "Dolphin",
         "276.54",
         "11.0",
         "2025-01-28"
        ],
        [
         "40",
         "19.0",
         "Android",
         "MMORPG",
         "Minnow",
         "18.17",
         "18.0",
         "2025-05-03"
        ],
        [
         "41",
         "38.0",
         "iOS",
         "Role Playing",
         "Minnow",
         "11.4",
         "19.0",
         "2025-07-11"
        ],
        [
         "42",
         "34.0",
         "iOS",
         "Puzzle",
         "Minnow",
         "4.94",
         "13.0",
         "2025-06-04"
        ],
        [
         "43",
         "20.0",
         "iOS",
         "Adventure",
         "Minnow",
         null,
         null,
         null
        ],
        [
         "44",
         "32.0",
         "Android",
         "Sports",
         "Minnow",
         "0.52",
         "3.0",
         "2025-04-10"
        ],
        [
         "45",
         "16.0",
         "Android",
         "Role Playing",
         "Minnow",
         "7.27",
         "17.0",
         "2025-05-28"
        ],
        [
         "46",
         "36.0",
         "Android",
         "Action RPG",
         "Minnow",
         "11.75",
         "2.0",
         "2025-04-22"
        ],
        [
         "47",
         "48.0",
         "Android",
         "Racing",
         "Minnow",
         "12.61",
         "22.0",
         "2025-08-09"
        ],
        [
         "48",
         "35.0",
         "Android",
         "Fighting",
         "Dolphin",
         "337.3",
         "5.0",
         "2025-04-30"
        ],
        [
         "49",
         "50.0",
         "iOS",
         "Strategy",
         "Minnow",
         "17.37",
         "3.0",
         "2025-03-06"
        ]
       ],
       "shape": {
        "columns": 7,
        "rows": 3024
       }
      },
      "text/html": [
       "<div>\n",
       "<style scoped>\n",
       "    .dataframe tbody tr th:only-of-type {\n",
       "        vertical-align: middle;\n",
       "    }\n",
       "\n",
       "    .dataframe tbody tr th {\n",
       "        vertical-align: top;\n",
       "    }\n",
       "\n",
       "    .dataframe thead th {\n",
       "        text-align: right;\n",
       "    }\n",
       "</style>\n",
       "<table border=\"1\" class=\"dataframe\">\n",
       "  <thead>\n",
       "    <tr style=\"text-align: right;\">\n",
       "      <th></th>\n",
       "      <th>Age</th>\n",
       "      <th>Device</th>\n",
       "      <th>GameGenre</th>\n",
       "      <th>SpendingSegment</th>\n",
       "      <th>InAppPurchaseAmount</th>\n",
       "      <th>FirstPurchaseDaysAfterInstall</th>\n",
       "      <th>LastPurchaseDate</th>\n",
       "    </tr>\n",
       "  </thead>\n",
       "  <tbody>\n",
       "    <tr>\n",
       "      <th>0</th>\n",
       "      <td>49.0</td>\n",
       "      <td>Android</td>\n",
       "      <td>Battle Royale</td>\n",
       "      <td>Minnow</td>\n",
       "      <td>11.40</td>\n",
       "      <td>28.0</td>\n",
       "      <td>2025-03-19</td>\n",
       "    </tr>\n",
       "    <tr>\n",
       "      <th>1</th>\n",
       "      <td>15.0</td>\n",
       "      <td>iOS</td>\n",
       "      <td>Action RPG</td>\n",
       "      <td>Minnow</td>\n",
       "      <td>6.37</td>\n",
       "      <td>18.0</td>\n",
       "      <td>2025-06-08</td>\n",
       "    </tr>\n",
       "    <tr>\n",
       "      <th>2</th>\n",
       "      <td>23.0</td>\n",
       "      <td>Android</td>\n",
       "      <td>Fighting</td>\n",
       "      <td>Minnow</td>\n",
       "      <td>15.81</td>\n",
       "      <td>30.0</td>\n",
       "      <td>2025-06-02</td>\n",
       "    </tr>\n",
       "    <tr>\n",
       "      <th>3</th>\n",
       "      <td>31.0</td>\n",
       "      <td>Android</td>\n",
       "      <td>Racing</td>\n",
       "      <td>Minnow</td>\n",
       "      <td>13.49</td>\n",
       "      <td>9.0</td>\n",
       "      <td>2025-04-01</td>\n",
       "    </tr>\n",
       "    <tr>\n",
       "      <th>4</th>\n",
       "      <td>37.0</td>\n",
       "      <td>Android</td>\n",
       "      <td>Battle Royale</td>\n",
       "      <td>Minnow</td>\n",
       "      <td>10.86</td>\n",
       "      <td>15.0</td>\n",
       "      <td>2025-05-05</td>\n",
       "    </tr>\n",
       "    <tr>\n",
       "      <th>...</th>\n",
       "      <td>...</td>\n",
       "      <td>...</td>\n",
       "      <td>...</td>\n",
       "      <td>...</td>\n",
       "      <td>...</td>\n",
       "      <td>...</td>\n",
       "      <td>...</td>\n",
       "    </tr>\n",
       "    <tr>\n",
       "      <th>3019</th>\n",
       "      <td>19.0</td>\n",
       "      <td>Android</td>\n",
       "      <td>Fighting</td>\n",
       "      <td>Minnow</td>\n",
       "      <td>12.48</td>\n",
       "      <td>16.0</td>\n",
       "      <td>2025-05-28</td>\n",
       "    </tr>\n",
       "    <tr>\n",
       "      <th>3020</th>\n",
       "      <td>48.0</td>\n",
       "      <td>iOS</td>\n",
       "      <td>Adventure</td>\n",
       "      <td>Minnow</td>\n",
       "      <td>14.77</td>\n",
       "      <td>14.0</td>\n",
       "      <td>2025-07-25</td>\n",
       "    </tr>\n",
       "    <tr>\n",
       "      <th>3021</th>\n",
       "      <td>44.0</td>\n",
       "      <td>Android</td>\n",
       "      <td>Card</td>\n",
       "      <td>Minnow</td>\n",
       "      <td>16.69</td>\n",
       "      <td>24.0</td>\n",
       "      <td>2025-01-25</td>\n",
       "    </tr>\n",
       "    <tr>\n",
       "      <th>3022</th>\n",
       "      <td>45.0</td>\n",
       "      <td>iOS</td>\n",
       "      <td>Fighting</td>\n",
       "      <td>Minnow</td>\n",
       "      <td>17.29</td>\n",
       "      <td>15.0</td>\n",
       "      <td>2025-05-07</td>\n",
       "    </tr>\n",
       "    <tr>\n",
       "      <th>3023</th>\n",
       "      <td>22.0</td>\n",
       "      <td>Android</td>\n",
       "      <td>Adventure</td>\n",
       "      <td>Minnow</td>\n",
       "      <td>4.11</td>\n",
       "      <td>30.0</td>\n",
       "      <td>2025-07-06</td>\n",
       "    </tr>\n",
       "  </tbody>\n",
       "</table>\n",
       "<p>3024 rows × 7 columns</p>\n",
       "</div>"
      ],
      "text/plain": [
       "       Age   Device      GameGenre SpendingSegment  InAppPurchaseAmount  \\\n",
       "0     49.0  Android  Battle Royale          Minnow                11.40   \n",
       "1     15.0      iOS     Action RPG          Minnow                 6.37   \n",
       "2     23.0  Android       Fighting          Minnow                15.81   \n",
       "3     31.0  Android         Racing          Minnow                13.49   \n",
       "4     37.0  Android  Battle Royale          Minnow                10.86   \n",
       "...    ...      ...            ...             ...                  ...   \n",
       "3019  19.0  Android       Fighting          Minnow                12.48   \n",
       "3020  48.0      iOS      Adventure          Minnow                14.77   \n",
       "3021  44.0  Android           Card          Minnow                16.69   \n",
       "3022  45.0      iOS       Fighting          Minnow                17.29   \n",
       "3023  22.0  Android      Adventure          Minnow                 4.11   \n",
       "\n",
       "      FirstPurchaseDaysAfterInstall LastPurchaseDate  \n",
       "0                              28.0       2025-03-19  \n",
       "1                              18.0       2025-06-08  \n",
       "2                              30.0       2025-06-02  \n",
       "3                               9.0       2025-04-01  \n",
       "4                              15.0       2025-05-05  \n",
       "...                             ...              ...  \n",
       "3019                           16.0       2025-05-28  \n",
       "3020                           14.0       2025-07-25  \n",
       "3021                           24.0       2025-01-25  \n",
       "3022                           15.0       2025-05-07  \n",
       "3023                           30.0       2025-07-06  \n",
       "\n",
       "[3024 rows x 7 columns]"
      ]
     },
     "execution_count": 11,
     "metadata": {},
     "output_type": "execute_result"
    }
   ],
   "source": [
    "df2"
   ]
  },
  {
   "cell_type": "code",
   "execution_count": 12,
   "id": "ac7d3aa4",
   "metadata": {},
   "outputs": [],
   "source": [
    "map_spending={\n",
    "    'Minnow':0,\n",
    "    'Dolphin':1,\n",
    "    'Whale':2\n",
    "}\n",
    "df2['SpendingSegment']=df2['SpendingSegment'].map(map_spending)"
   ]
  },
  {
   "cell_type": "code",
   "execution_count": 13,
   "id": "5a46ae94",
   "metadata": {},
   "outputs": [
    {
     "data": {
      "application/vnd.microsoft.datawrangler.viewer.v0+json": {
       "columns": [
        {
         "name": "index",
         "rawType": "int64",
         "type": "integer"
        },
        {
         "name": "Age",
         "rawType": "float64",
         "type": "float"
        },
        {
         "name": "Device",
         "rawType": "object",
         "type": "string"
        },
        {
         "name": "GameGenre",
         "rawType": "object",
         "type": "string"
        },
        {
         "name": "SpendingSegment",
         "rawType": "int64",
         "type": "integer"
        },
        {
         "name": "InAppPurchaseAmount",
         "rawType": "float64",
         "type": "float"
        },
        {
         "name": "FirstPurchaseDaysAfterInstall",
         "rawType": "float64",
         "type": "float"
        },
        {
         "name": "LastPurchaseDate",
         "rawType": "object",
         "type": "string"
        }
       ],
       "ref": "4d071469-b4ba-4f4a-8364-f3391180d8e6",
       "rows": [
        [
         "0",
         "49.0",
         "Android",
         "Battle Royale",
         "0",
         "11.4",
         "28.0",
         "2025-03-19"
        ],
        [
         "1",
         "15.0",
         "iOS",
         "Action RPG",
         "0",
         "6.37",
         "18.0",
         "2025-06-08"
        ],
        [
         "2",
         "23.0",
         "Android",
         "Fighting",
         "0",
         "15.81",
         "30.0",
         "2025-06-02"
        ],
        [
         "3",
         "31.0",
         "Android",
         "Racing",
         "0",
         "13.49",
         "9.0",
         "2025-04-01"
        ],
        [
         "4",
         "37.0",
         "Android",
         "Battle Royale",
         "0",
         "10.86",
         "15.0",
         "2025-05-05"
        ]
       ],
       "shape": {
        "columns": 7,
        "rows": 5
       }
      },
      "text/html": [
       "<div>\n",
       "<style scoped>\n",
       "    .dataframe tbody tr th:only-of-type {\n",
       "        vertical-align: middle;\n",
       "    }\n",
       "\n",
       "    .dataframe tbody tr th {\n",
       "        vertical-align: top;\n",
       "    }\n",
       "\n",
       "    .dataframe thead th {\n",
       "        text-align: right;\n",
       "    }\n",
       "</style>\n",
       "<table border=\"1\" class=\"dataframe\">\n",
       "  <thead>\n",
       "    <tr style=\"text-align: right;\">\n",
       "      <th></th>\n",
       "      <th>Age</th>\n",
       "      <th>Device</th>\n",
       "      <th>GameGenre</th>\n",
       "      <th>SpendingSegment</th>\n",
       "      <th>InAppPurchaseAmount</th>\n",
       "      <th>FirstPurchaseDaysAfterInstall</th>\n",
       "      <th>LastPurchaseDate</th>\n",
       "    </tr>\n",
       "  </thead>\n",
       "  <tbody>\n",
       "    <tr>\n",
       "      <th>0</th>\n",
       "      <td>49.0</td>\n",
       "      <td>Android</td>\n",
       "      <td>Battle Royale</td>\n",
       "      <td>0</td>\n",
       "      <td>11.40</td>\n",
       "      <td>28.0</td>\n",
       "      <td>2025-03-19</td>\n",
       "    </tr>\n",
       "    <tr>\n",
       "      <th>1</th>\n",
       "      <td>15.0</td>\n",
       "      <td>iOS</td>\n",
       "      <td>Action RPG</td>\n",
       "      <td>0</td>\n",
       "      <td>6.37</td>\n",
       "      <td>18.0</td>\n",
       "      <td>2025-06-08</td>\n",
       "    </tr>\n",
       "    <tr>\n",
       "      <th>2</th>\n",
       "      <td>23.0</td>\n",
       "      <td>Android</td>\n",
       "      <td>Fighting</td>\n",
       "      <td>0</td>\n",
       "      <td>15.81</td>\n",
       "      <td>30.0</td>\n",
       "      <td>2025-06-02</td>\n",
       "    </tr>\n",
       "    <tr>\n",
       "      <th>3</th>\n",
       "      <td>31.0</td>\n",
       "      <td>Android</td>\n",
       "      <td>Racing</td>\n",
       "      <td>0</td>\n",
       "      <td>13.49</td>\n",
       "      <td>9.0</td>\n",
       "      <td>2025-04-01</td>\n",
       "    </tr>\n",
       "    <tr>\n",
       "      <th>4</th>\n",
       "      <td>37.0</td>\n",
       "      <td>Android</td>\n",
       "      <td>Battle Royale</td>\n",
       "      <td>0</td>\n",
       "      <td>10.86</td>\n",
       "      <td>15.0</td>\n",
       "      <td>2025-05-05</td>\n",
       "    </tr>\n",
       "  </tbody>\n",
       "</table>\n",
       "</div>"
      ],
      "text/plain": [
       "    Age   Device      GameGenre  SpendingSegment  InAppPurchaseAmount  \\\n",
       "0  49.0  Android  Battle Royale                0                11.40   \n",
       "1  15.0      iOS     Action RPG                0                 6.37   \n",
       "2  23.0  Android       Fighting                0                15.81   \n",
       "3  31.0  Android         Racing                0                13.49   \n",
       "4  37.0  Android  Battle Royale                0                10.86   \n",
       "\n",
       "   FirstPurchaseDaysAfterInstall LastPurchaseDate  \n",
       "0                           28.0       2025-03-19  \n",
       "1                           18.0       2025-06-08  \n",
       "2                           30.0       2025-06-02  \n",
       "3                            9.0       2025-04-01  \n",
       "4                           15.0       2025-05-05  "
      ]
     },
     "execution_count": 13,
     "metadata": {},
     "output_type": "execute_result"
    }
   ],
   "source": [
    "df2.head()"
   ]
  },
  {
   "cell_type": "code",
   "execution_count": 14,
   "id": "acdb7de4",
   "metadata": {},
   "outputs": [],
   "source": [
    "df2.drop('LastPurchaseDate',axis=1,inplace=True)"
   ]
  },
  {
   "cell_type": "code",
   "execution_count": 15,
   "id": "00bb719f",
   "metadata": {},
   "outputs": [
    {
     "name": "stdout",
     "output_type": "stream",
     "text": [
      "<class 'pandas.core.frame.DataFrame'>\n",
      "RangeIndex: 3024 entries, 0 to 3023\n",
      "Data columns (total 6 columns):\n",
      " #   Column                         Non-Null Count  Dtype  \n",
      "---  ------                         --------------  -----  \n",
      " 0   Age                            2964 non-null   float64\n",
      " 1   Device                         2964 non-null   object \n",
      " 2   GameGenre                      2964 non-null   object \n",
      " 3   SpendingSegment                3024 non-null   int64  \n",
      " 4   InAppPurchaseAmount            2888 non-null   float64\n",
      " 5   FirstPurchaseDaysAfterInstall  2888 non-null   float64\n",
      "dtypes: float64(3), int64(1), object(2)\n",
      "memory usage: 141.9+ KB\n"
     ]
    }
   ],
   "source": [
    "df2.info()"
   ]
  },
  {
   "cell_type": "code",
   "execution_count": 16,
   "id": "0c34c702",
   "metadata": {},
   "outputs": [
    {
     "data": {
      "application/vnd.microsoft.datawrangler.viewer.v0+json": {
       "columns": [
        {
         "name": "index",
         "rawType": "object",
         "type": "string"
        },
        {
         "name": "0",
         "rawType": "int64",
         "type": "integer"
        }
       ],
       "ref": "f5b521ba-b30c-4bd7-9901-6eca4a1cc11f",
       "rows": [
        [
         "Age",
         "60"
        ],
        [
         "Device",
         "60"
        ],
        [
         "GameGenre",
         "60"
        ],
        [
         "SpendingSegment",
         "0"
        ],
        [
         "InAppPurchaseAmount",
         "136"
        ],
        [
         "FirstPurchaseDaysAfterInstall",
         "136"
        ]
       ],
       "shape": {
        "columns": 1,
        "rows": 6
       }
      },
      "text/plain": [
       "Age                               60\n",
       "Device                            60\n",
       "GameGenre                         60\n",
       "SpendingSegment                    0\n",
       "InAppPurchaseAmount              136\n",
       "FirstPurchaseDaysAfterInstall    136\n",
       "dtype: int64"
      ]
     },
     "execution_count": 16,
     "metadata": {},
     "output_type": "execute_result"
    }
   ],
   "source": [
    "df2.isna().sum()"
   ]
  },
  {
   "cell_type": "code",
   "execution_count": 17,
   "id": "8329506f",
   "metadata": {},
   "outputs": [
    {
     "name": "stderr",
     "output_type": "stream",
     "text": [
      "C:\\Users\\giris\\AppData\\Local\\Temp\\ipykernel_3800\\1633721009.py:1: FutureWarning: A value is trying to be set on a copy of a DataFrame or Series through chained assignment using an inplace method.\n",
      "The behavior will change in pandas 3.0. This inplace method will never work because the intermediate object on which we are setting values always behaves as a copy.\n",
      "\n",
      "For example, when doing 'df[col].method(value, inplace=True)', try using 'df.method({col: value}, inplace=True)' or df[col] = df[col].method(value) instead, to perform the operation inplace on the original object.\n",
      "\n",
      "\n",
      "  df2['Age'].fillna('Mean',inplace=True)\n",
      "C:\\Users\\giris\\AppData\\Local\\Temp\\ipykernel_3800\\1633721009.py:1: FutureWarning: Setting an item of incompatible dtype is deprecated and will raise an error in a future version of pandas. Value 'Mean' has dtype incompatible with float64, please explicitly cast to a compatible dtype first.\n",
      "  df2['Age'].fillna('Mean',inplace=True)\n"
     ]
    }
   ],
   "source": [
    "df2['Age'].fillna('Mean',inplace=True)"
   ]
  },
  {
   "cell_type": "code",
   "execution_count": 18,
   "id": "00abce7b",
   "metadata": {},
   "outputs": [
    {
     "data": {
      "text/plain": [
       "array(['Android', 'iOS', nan], dtype=object)"
      ]
     },
     "execution_count": 18,
     "metadata": {},
     "output_type": "execute_result"
    }
   ],
   "source": [
    "df2['Device'].unique()"
   ]
  },
  {
   "cell_type": "code",
   "execution_count": 19,
   "id": "54461a7e",
   "metadata": {},
   "outputs": [],
   "source": [
    "Device_map={\n",
    "    'Android':0,\n",
    "    'IOS':1\n",
    "}\n",
    "df2['Device']=df2['Device'].map(Device_map)"
   ]
  },
  {
   "cell_type": "code",
   "execution_count": 20,
   "id": "e9c9b1b2",
   "metadata": {},
   "outputs": [
    {
     "name": "stderr",
     "output_type": "stream",
     "text": [
      "C:\\Users\\giris\\AppData\\Local\\Temp\\ipykernel_3800\\2524885580.py:1: FutureWarning: A value is trying to be set on a copy of a DataFrame or Series through chained assignment using an inplace method.\n",
      "The behavior will change in pandas 3.0. This inplace method will never work because the intermediate object on which we are setting values always behaves as a copy.\n",
      "\n",
      "For example, when doing 'df[col].method(value, inplace=True)', try using 'df.method({col: value}, inplace=True)' or df[col] = df[col].method(value) instead, to perform the operation inplace on the original object.\n",
      "\n",
      "\n",
      "  df2['Device'].fillna(0.0,inplace=True)\n"
     ]
    }
   ],
   "source": [
    "df2['Device'].fillna(0.0,inplace=True)"
   ]
  },
  {
   "cell_type": "code",
   "execution_count": 21,
   "id": "3f9ddda1",
   "metadata": {},
   "outputs": [
    {
     "data": {
      "application/vnd.microsoft.datawrangler.viewer.v0+json": {
       "columns": [
        {
         "name": "index",
         "rawType": "int64",
         "type": "integer"
        },
        {
         "name": "Device",
         "rawType": "float64",
         "type": "float"
        }
       ],
       "ref": "b25fd211-9b84-4de1-b27c-b9cf2b99e1d1",
       "rows": [
        [
         "0",
         "0.0"
        ],
        [
         "1",
         "0.0"
        ],
        [
         "2",
         "0.0"
        ],
        [
         "3",
         "0.0"
        ],
        [
         "4",
         "0.0"
        ],
        [
         "5",
         "0.0"
        ],
        [
         "6",
         "0.0"
        ],
        [
         "7",
         "0.0"
        ],
        [
         "8",
         "0.0"
        ],
        [
         "9",
         "0.0"
        ],
        [
         "10",
         "0.0"
        ],
        [
         "11",
         "0.0"
        ],
        [
         "12",
         "0.0"
        ],
        [
         "13",
         "0.0"
        ],
        [
         "14",
         "0.0"
        ],
        [
         "15",
         "0.0"
        ],
        [
         "16",
         "0.0"
        ],
        [
         "17",
         "0.0"
        ],
        [
         "18",
         "0.0"
        ],
        [
         "19",
         "0.0"
        ],
        [
         "20",
         "0.0"
        ],
        [
         "21",
         "0.0"
        ],
        [
         "22",
         "0.0"
        ],
        [
         "23",
         "0.0"
        ],
        [
         "24",
         "0.0"
        ],
        [
         "25",
         "0.0"
        ],
        [
         "26",
         "0.0"
        ],
        [
         "27",
         "0.0"
        ],
        [
         "28",
         "0.0"
        ],
        [
         "29",
         "0.0"
        ],
        [
         "30",
         "0.0"
        ],
        [
         "31",
         "0.0"
        ],
        [
         "32",
         "0.0"
        ],
        [
         "33",
         "0.0"
        ],
        [
         "34",
         "0.0"
        ],
        [
         "35",
         "0.0"
        ],
        [
         "36",
         "0.0"
        ],
        [
         "37",
         "0.0"
        ],
        [
         "38",
         "0.0"
        ],
        [
         "39",
         "0.0"
        ],
        [
         "40",
         "0.0"
        ],
        [
         "41",
         "0.0"
        ],
        [
         "42",
         "0.0"
        ],
        [
         "43",
         "0.0"
        ],
        [
         "44",
         "0.0"
        ],
        [
         "45",
         "0.0"
        ],
        [
         "46",
         "0.0"
        ],
        [
         "47",
         "0.0"
        ],
        [
         "48",
         "0.0"
        ],
        [
         "49",
         "0.0"
        ]
       ],
       "shape": {
        "columns": 1,
        "rows": 3024
       }
      },
      "text/plain": [
       "0       0.0\n",
       "1       0.0\n",
       "2       0.0\n",
       "3       0.0\n",
       "4       0.0\n",
       "       ... \n",
       "3019    0.0\n",
       "3020    0.0\n",
       "3021    0.0\n",
       "3022    0.0\n",
       "3023    0.0\n",
       "Name: Device, Length: 3024, dtype: float64"
      ]
     },
     "execution_count": 21,
     "metadata": {},
     "output_type": "execute_result"
    }
   ],
   "source": [
    "df2['Device']"
   ]
  },
  {
   "cell_type": "code",
   "execution_count": 22,
   "id": "486e61bd",
   "metadata": {},
   "outputs": [
    {
     "data": {
      "application/vnd.microsoft.datawrangler.viewer.v0+json": {
       "columns": [
        {
         "name": "index",
         "rawType": "object",
         "type": "string"
        },
        {
         "name": "0",
         "rawType": "int64",
         "type": "integer"
        }
       ],
       "ref": "d82b9f73-bed8-4db0-84aa-f003cdf645ff",
       "rows": [
        [
         "Age",
         "0"
        ],
        [
         "Device",
         "0"
        ],
        [
         "GameGenre",
         "60"
        ],
        [
         "SpendingSegment",
         "0"
        ],
        [
         "InAppPurchaseAmount",
         "136"
        ],
        [
         "FirstPurchaseDaysAfterInstall",
         "136"
        ]
       ],
       "shape": {
        "columns": 1,
        "rows": 6
       }
      },
      "text/plain": [
       "Age                                0\n",
       "Device                             0\n",
       "GameGenre                         60\n",
       "SpendingSegment                    0\n",
       "InAppPurchaseAmount              136\n",
       "FirstPurchaseDaysAfterInstall    136\n",
       "dtype: int64"
      ]
     },
     "execution_count": 22,
     "metadata": {},
     "output_type": "execute_result"
    }
   ],
   "source": [
    "df2.isna().sum()"
   ]
  },
  {
   "cell_type": "code",
   "execution_count": 23,
   "id": "37be9d31",
   "metadata": {},
   "outputs": [
    {
     "data": {
      "text/plain": [
       "array(['Battle Royale', 'Action RPG', 'Fighting', 'Racing', 'Simulation',\n",
       "       nan, 'MMORPG', 'Role Playing', 'Sports', 'Card', 'Sandbox',\n",
       "       'Puzzle', 'Strategy', 'Casual', 'Adventure', 'MOBA'], dtype=object)"
      ]
     },
     "execution_count": 23,
     "metadata": {},
     "output_type": "execute_result"
    }
   ],
   "source": [
    "df2['GameGenre'].unique()"
   ]
  },
  {
   "cell_type": "code",
   "execution_count": 24,
   "id": "03d6db6e",
   "metadata": {},
   "outputs": [
    {
     "data": {
      "application/vnd.microsoft.datawrangler.viewer.v0+json": {
       "columns": [
        {
         "name": "index",
         "rawType": "int64",
         "type": "integer"
        },
        {
         "name": "UserID",
         "rawType": "object",
         "type": "string"
        },
        {
         "name": "Age",
         "rawType": "float64",
         "type": "float"
        },
        {
         "name": "Gender",
         "rawType": "object",
         "type": "unknown"
        },
        {
         "name": "Country",
         "rawType": "object",
         "type": "unknown"
        },
        {
         "name": "Device",
         "rawType": "object",
         "type": "unknown"
        },
        {
         "name": "GameGenre",
         "rawType": "object",
         "type": "unknown"
        },
        {
         "name": "SessionCount",
         "rawType": "int64",
         "type": "integer"
        },
        {
         "name": "AverageSessionLength",
         "rawType": "float64",
         "type": "float"
        },
        {
         "name": "SpendingSegment",
         "rawType": "object",
         "type": "string"
        },
        {
         "name": "InAppPurchaseAmount",
         "rawType": "float64",
         "type": "float"
        },
        {
         "name": "FirstPurchaseDaysAfterInstall",
         "rawType": "float64",
         "type": "float"
        },
        {
         "name": "PaymentMethod",
         "rawType": "object",
         "type": "unknown"
        },
        {
         "name": "LastPurchaseDate",
         "rawType": "object",
         "type": "unknown"
        }
       ],
       "ref": "0cb53cb4-617f-4415-80a2-c156367a0cf2",
       "rows": [
        [
         "0",
         "c9889ab0-9cfc-4a75-acd9-5eab1df0015c",
         "49.0",
         "Male",
         "Norway",
         "Android",
         "Battle Royale",
         "9",
         "12.83",
         "Minnow",
         "11.4",
         "28.0",
         "Apple Pay",
         "2025-03-19"
        ],
        [
         "1",
         "7c9e413c-ecca-45f2-a780-2826a07952a2",
         "15.0",
         "Male",
         "Switzerland",
         "iOS",
         "Action RPG",
         "11",
         "19.39",
         "Minnow",
         "6.37",
         "18.0",
         "Debit Card",
         "2025-06-08"
        ],
        [
         "2",
         "fd61e419-1a92-4f43-a8c7-135842ad328a",
         "23.0",
         "Male",
         "China",
         "Android",
         "Fighting",
         "9",
         "8.87",
         "Minnow",
         "15.81",
         "30.0",
         "Apple Pay",
         "2025-06-02"
        ],
        [
         "3",
         "bdb7f6d1-ff9a-468c-afe7-43f32a94293e",
         "31.0",
         "Male",
         "Mexico",
         "Android",
         "Racing",
         "12",
         "19.56",
         "Minnow",
         "13.49",
         "9.0",
         "Debit Card",
         "2025-04-01"
        ],
        [
         "4",
         "aa7eec14-4846-47b9-b879-9c98038cda04",
         "37.0",
         "Female",
         "India",
         "Android",
         "Battle Royale",
         "10",
         "15.23",
         "Minnow",
         "10.86",
         "15.0",
         "Paypal",
         "2025-05-05"
        ],
        [
         "5",
         "992232c1-a563-4986-aa8b-b70d687d374f",
         "38.0",
         "Female",
         "China",
         "Android",
         "Fighting",
         "16",
         "25.97",
         "Dolphin",
         "150.51",
         "28.0",
         "Google Pay",
         "2025-05-05"
        ],
        [
         "6",
         "702bafd0-9a08-4269-801e-faf32f9f3ca5",
         "20.0",
         "Female",
         "Italy",
         "Android",
         "Simulation",
         "9",
         "10.98",
         "Whale",
         "608.21",
         "24.0",
         "Debit Card",
         "2025-06-04"
        ],
        [
         "7",
         "fc470ea9-111f-4637-a9ff-7162d81e2ec3",
         "34.0",
         "Female",
         "Denmark",
         "iOS",
         null,
         "15",
         "5.06",
         "Minnow",
         "19.17",
         "30.0",
         "Gift Card",
         "2025-04-26"
        ],
        [
         "8",
         "9b2efc1e-cd4b-48ab-b893-438d57855efa",
         "38.0",
         "Male",
         "Japan",
         "Android",
         "Action RPG",
         "10",
         "21.82",
         "Minnow",
         "11.52",
         "1.0",
         "Paypal",
         "2025-04-08"
        ],
        [
         "9",
         "25723b60-ea5b-4aff-9f23-97fdf5e98c58",
         "46.0",
         "Male",
         "Russia",
         "iOS",
         "Battle Royale",
         "18",
         "16.36",
         "Minnow",
         "7.76",
         "19.0",
         "Google Pay",
         "2025-02-03"
        ],
        [
         "10",
         "2bb44e49-c28d-4023-ac75-33d92cb77870",
         "29.0",
         "Male",
         "Switzerland",
         "iOS",
         "MMORPG",
         "18",
         "27.15",
         "Minnow",
         "13.44",
         "12.0",
         "Debit Card",
         "2025-05-06"
        ],
        [
         "11",
         "a516f724-6b0f-438c-b20b-59f5f35ab06a",
         "31.0",
         "Male",
         "Sweden",
         "Android",
         "Simulation",
         "10",
         "31.1",
         "Dolphin",
         null,
         null,
         null,
         null
        ],
        [
         "12",
         "f72780cf-bccf-4ae5-8c12-09ee9d511322",
         "30.0",
         "Female",
         "Australia",
         "Android",
         "Role Playing",
         "11",
         "20.97",
         "Minnow",
         "6.06",
         "28.0",
         "Gift Card",
         "2025-07-26"
        ],
        [
         "13",
         "659f30ff-48f1-4e76-8f82-312d98e1ba76",
         "24.0",
         "Male",
         "Turkey",
         "Android",
         "Fighting",
         "12",
         "28.71",
         "Minnow",
         "5.9",
         "27.0",
         "Carrier Billing",
         "2025-08-06"
        ],
        [
         "14",
         "34c56aa2-33c0-40c0-af9b-6c5b45929851",
         "21.0",
         "Male",
         "South Korea",
         "iOS",
         "Sports",
         "12",
         "7.62",
         "Minnow",
         "13.78",
         "20.0",
         "Gift Card",
         "2025-06-28"
        ],
        [
         "15",
         "ae1ccfa2-8967-4981-be8f-a5c3b0f9f394",
         "35.0",
         "Male",
         "Switzerland",
         "Android",
         "Action RPG",
         "10",
         "29.72",
         "Minnow",
         "6.9",
         "1.0",
         "Apple Pay",
         "2025-01-19"
        ],
        [
         "16",
         "bb0cf750-9fd2-4329-acc8-dc40dedaff3d",
         "37.0",
         "Female",
         "Japan",
         "iOS",
         "Card",
         "13",
         "5.39",
         "Minnow",
         "6.17",
         "11.0",
         "Gift Card",
         "2025-06-07"
        ],
        [
         "17",
         "cf1326be-4810-4b4d-bbc9-ff7b8c22d5ab",
         "45.0",
         "Male",
         "Saudi Arabia",
         "Android",
         "Sandbox",
         "11",
         "10.66",
         "Minnow",
         "11.83",
         "16.0",
         "Paypal",
         "2025-02-14"
        ],
        [
         "18",
         "784fa153-301d-4286-adf5-3459e04e8a97",
         "14.0",
         "Female",
         "Sri Lanka",
         "iOS",
         "Racing",
         "10",
         "33.44",
         "Whale",
         "3454.51",
         "22.0",
         "Carrier Billing",
         "2025-01-01"
        ],
        [
         "19",
         "9f1bd962-1ace-403e-aabb-eda9bd08e999",
         "47.0",
         "Female",
         "Sweden",
         "iOS",
         "Fighting",
         "10",
         "14.48",
         "Minnow",
         "13.4",
         "19.0",
         "Credit Card",
         "2025-03-13"
        ],
        [
         "20",
         "2cd9ff69-2a0d-4df7-82d5-400d609f66f5",
         "35.0",
         "Female",
         "Mexico",
         "Android",
         "Simulation",
         "9",
         "25.76",
         "Minnow",
         "17.37",
         "14.0",
         "Credit Card",
         "2025-03-26"
        ],
        [
         "21",
         "d17030c2-e861-4028-aa03-23b18d239a40",
         "14.0",
         "Male",
         "Japan",
         "iOS",
         "Puzzle",
         "9",
         "15.49",
         "Whale",
         "4302.61",
         "30.0",
         "Credit Card",
         "2025-04-08"
        ],
        [
         "22",
         "9b7c844f-1891-49da-a71d-b0b2719deda5",
         "21.0",
         "Male",
         "Canada",
         "Android",
         "Strategy",
         "9",
         "13.64",
         "Whale",
         "1945.86",
         "19.0",
         "Gift Card",
         "2025-02-07"
        ],
        [
         "23",
         "2bf7d319-fba5-4d64-9187-358045a4ed40",
         "54.0",
         "Male",
         "Canada",
         "iOS",
         "Role Playing",
         "12",
         "22.7",
         "Minnow",
         "8.36",
         "27.0",
         "Paypal",
         "2025-03-18"
        ],
        [
         "24",
         "bab46c87-b7a7-4e1c-b56f-d1c8d2897733",
         "47.0",
         "Male",
         "Denmark",
         "Android",
         "Simulation",
         "8",
         "16.56",
         "Minnow",
         "3.71",
         "22.0",
         "Google Pay",
         "2025-07-24"
        ],
        [
         "25",
         "902744c6-0620-47d6-92aa-b1d719b1d50f",
         "52.0",
         "Male",
         "Sri Lanka",
         "Android",
         "Strategy",
         "8",
         "15.21",
         "Dolphin",
         "393.62",
         "17.0",
         "Debit Card",
         "2025-02-09"
        ],
        [
         "26",
         "38041854-4fcc-41f7-a662-cf466afce86f",
         "25.0",
         "Male",
         "Italy",
         "iOS",
         "Fighting",
         "9",
         "9.59",
         "Minnow",
         "18.71",
         "17.0",
         "Apple Pay",
         "2025-08-08"
        ],
        [
         "27",
         "cc7fffae-d126-4f3b-bbc4-c81213b6bf69",
         "51.0",
         "Male",
         "India",
         "iOS",
         "Card",
         "12",
         "26.29",
         "Minnow",
         "1.15",
         "9.0",
         "Carrier Billing",
         "2025-07-20"
        ],
        [
         "28",
         "03e7dc1d-dfe5-4677-aff4-239b6a60ad7c",
         "18.0",
         "Male",
         "Switzerland",
         "Android",
         "Casual",
         "5",
         "21.01",
         "Dolphin",
         "356.98",
         "18.0",
         "Google Pay",
         "2025-08-02"
        ],
        [
         "29",
         "0d4f2cd8-6cee-4133-8cb2-435a0f6d19ef",
         null,
         "Female",
         "Russia",
         "iOS",
         "Sandbox",
         "15",
         "8.9",
         "Minnow",
         "6.24",
         "13.0",
         "Google Pay",
         "2025-04-09"
        ],
        [
         "30",
         "1afae40f-9b90-4710-a024-13d1d2b4266e",
         "32.0",
         "Male",
         "France",
         "Android",
         "Action RPG",
         "12",
         "14.9",
         "Minnow",
         "19.04",
         "17.0",
         "Debit Card",
         "2025-05-22"
        ],
        [
         "31",
         "2868c7dc-a4bc-4143-8256-334e29ec7458",
         "54.0",
         "Female",
         "USA",
         "Android",
         "Sandbox",
         "13",
         "21.86",
         "Minnow",
         null,
         null,
         null,
         null
        ],
        [
         "32",
         "8b27e55c-6841-4e55-ad1d-a953319e7839",
         "34.0",
         "Female",
         null,
         "Android",
         "Card",
         "11",
         "17.72",
         "Minnow",
         "9.63",
         "26.0",
         "Google Pay",
         "2025-04-27"
        ],
        [
         "33",
         "51632073-5433-48ef-a95f-a519029bb068",
         "30.0",
         "Female",
         "UK",
         "Android",
         "Casual",
         "10",
         "17.36",
         "Minnow",
         "1.52",
         "1.0",
         "Gift Card",
         "2025-07-29"
        ],
        [
         "34",
         "caddf020-37f9-42c6-b9d3-cf256901e2a9",
         "31.0",
         "Female",
         "Netherlands",
         "Android",
         "Adventure",
         "15",
         "21.2",
         "Minnow",
         "12.55",
         "28.0",
         "Gift Card",
         "2025-06-05"
        ],
        [
         "35",
         "3d303a23-7484-45ec-ac02-e7e533b6b1f3",
         "43.0",
         "Male",
         "Canada",
         "iOS",
         "Simulation",
         "9",
         "33.73",
         "Minnow",
         "16.97",
         "12.0",
         "Paypal",
         "2025-02-27"
        ],
        [
         "36",
         "c6301a66-20d3-4bd7-9ba5-664de4f1814b",
         "49.0",
         "Male",
         "South Korea",
         "iOS",
         "Card",
         "11",
         "26.68",
         "Minnow",
         "10.93",
         "24.0",
         "Apple Pay",
         "2025-03-16"
        ],
        [
         "37",
         "9df52d99-a9d8-45d4-804d-d0288f9c88f2",
         "54.0",
         "Male",
         "Norway",
         "Android",
         "Sports",
         "9",
         "23.08",
         "Minnow",
         "13.62",
         "7.0",
         "Credit Card",
         "2025-01-15"
        ],
        [
         "38",
         "078c53b3-d2f8-4587-a779-d66661ed6351",
         "38.0",
         "Male",
         "Norway",
         "iOS",
         "Adventure",
         "9",
         "17.67",
         "Minnow",
         "5.88",
         "19.0",
         "Credit Card",
         "2025-08-12"
        ],
        [
         "39",
         "609ec77e-7c64-4486-a77d-da39f5e21576",
         "17.0",
         "Male",
         "Saudi Arabia",
         "Android",
         "Sandbox",
         "8",
         "29.44",
         "Dolphin",
         "276.54",
         "11.0",
         "Credit Card",
         "2025-01-28"
        ],
        [
         "40",
         "b6208d5f-f05f-4b64-a9be-f0e3262c3952",
         "19.0",
         "Female",
         null,
         "Android",
         "MMORPG",
         "12",
         "19.36",
         "Minnow",
         "18.17",
         "18.0",
         "Google Pay",
         "2025-05-03"
        ],
        [
         "41",
         "cb88b1cf-7ccc-4c4f-98b6-d6906c1bbb20",
         "38.0",
         "Male",
         "Mexico",
         "iOS",
         "Role Playing",
         "7",
         "15.38",
         "Minnow",
         "11.4",
         "19.0",
         "Carrier Billing",
         "2025-07-11"
        ],
        [
         "42",
         "05ef5257-cb10-41a7-93be-616389d660f2",
         "34.0",
         "Male",
         "Australia",
         "iOS",
         "Puzzle",
         "14",
         "14.21",
         "Minnow",
         "4.94",
         "13.0",
         "Gift Card",
         "2025-06-04"
        ],
        [
         "43",
         "daa87ce2-9524-437b-96f5-d862e44ba2a6",
         "20.0",
         "Female",
         "Egypt",
         "iOS",
         "Adventure",
         "12",
         "13.56",
         "Minnow",
         null,
         null,
         null,
         null
        ],
        [
         "44",
         "2059ae35-b1ea-4c2a-bbce-b89233c30938",
         "32.0",
         "Female",
         "India",
         "Android",
         "Sports",
         "11",
         "6.96",
         "Minnow",
         "0.52",
         "3.0",
         "Debit Card",
         "2025-04-10"
        ],
        [
         "45",
         "11826044-01a7-4201-af8a-5a93cc6a9b38",
         "16.0",
         "Female",
         "Spain",
         "Android",
         "Role Playing",
         "7",
         "23.56",
         "Minnow",
         "7.27",
         "17.0",
         "Gift Card",
         "2025-05-28"
        ],
        [
         "46",
         "69f06b32-f62f-4cf8-b5f2-c33c16ec646c",
         "36.0",
         "Male",
         "UK",
         "Android",
         "Action RPG",
         "3",
         "18.42",
         "Minnow",
         "11.75",
         "2.0",
         "Apple Pay",
         "2025-04-22"
        ],
        [
         "47",
         "533679ef-f6a5-450d-858b-92a7a2e10de4",
         "48.0",
         "Female",
         "France",
         "Android",
         "Racing",
         "13",
         "31.13",
         "Minnow",
         "12.61",
         "22.0",
         "Paypal",
         "2025-08-09"
        ],
        [
         "48",
         "5e12bef2-00c7-4634-b3b2-b0926e9cb9fc",
         "35.0",
         "Male",
         "Brazil",
         "Android",
         "Fighting",
         "12",
         "21.19",
         "Dolphin",
         "337.3",
         "5.0",
         "Gift Card",
         "2025-04-30"
        ],
        [
         "49",
         "f60f1c9a-d523-4648-a09c-7928e79fb2be",
         "50.0",
         "Male",
         "UK",
         "iOS",
         "Strategy",
         "9",
         "23.2",
         "Minnow",
         "17.37",
         "3.0",
         "Debit Card",
         "2025-03-06"
        ]
       ],
       "shape": {
        "columns": 13,
        "rows": 3024
       }
      },
      "text/html": [
       "<div>\n",
       "<style scoped>\n",
       "    .dataframe tbody tr th:only-of-type {\n",
       "        vertical-align: middle;\n",
       "    }\n",
       "\n",
       "    .dataframe tbody tr th {\n",
       "        vertical-align: top;\n",
       "    }\n",
       "\n",
       "    .dataframe thead th {\n",
       "        text-align: right;\n",
       "    }\n",
       "</style>\n",
       "<table border=\"1\" class=\"dataframe\">\n",
       "  <thead>\n",
       "    <tr style=\"text-align: right;\">\n",
       "      <th></th>\n",
       "      <th>UserID</th>\n",
       "      <th>Age</th>\n",
       "      <th>Gender</th>\n",
       "      <th>Country</th>\n",
       "      <th>Device</th>\n",
       "      <th>GameGenre</th>\n",
       "      <th>SessionCount</th>\n",
       "      <th>AverageSessionLength</th>\n",
       "      <th>SpendingSegment</th>\n",
       "      <th>InAppPurchaseAmount</th>\n",
       "      <th>FirstPurchaseDaysAfterInstall</th>\n",
       "      <th>PaymentMethod</th>\n",
       "      <th>LastPurchaseDate</th>\n",
       "    </tr>\n",
       "  </thead>\n",
       "  <tbody>\n",
       "    <tr>\n",
       "      <th>0</th>\n",
       "      <td>c9889ab0-9cfc-4a75-acd9-5eab1df0015c</td>\n",
       "      <td>49.0</td>\n",
       "      <td>Male</td>\n",
       "      <td>Norway</td>\n",
       "      <td>Android</td>\n",
       "      <td>Battle Royale</td>\n",
       "      <td>9</td>\n",
       "      <td>12.83</td>\n",
       "      <td>Minnow</td>\n",
       "      <td>11.40</td>\n",
       "      <td>28.0</td>\n",
       "      <td>Apple Pay</td>\n",
       "      <td>2025-03-19</td>\n",
       "    </tr>\n",
       "    <tr>\n",
       "      <th>1</th>\n",
       "      <td>7c9e413c-ecca-45f2-a780-2826a07952a2</td>\n",
       "      <td>15.0</td>\n",
       "      <td>Male</td>\n",
       "      <td>Switzerland</td>\n",
       "      <td>iOS</td>\n",
       "      <td>Action RPG</td>\n",
       "      <td>11</td>\n",
       "      <td>19.39</td>\n",
       "      <td>Minnow</td>\n",
       "      <td>6.37</td>\n",
       "      <td>18.0</td>\n",
       "      <td>Debit Card</td>\n",
       "      <td>2025-06-08</td>\n",
       "    </tr>\n",
       "    <tr>\n",
       "      <th>2</th>\n",
       "      <td>fd61e419-1a92-4f43-a8c7-135842ad328a</td>\n",
       "      <td>23.0</td>\n",
       "      <td>Male</td>\n",
       "      <td>China</td>\n",
       "      <td>Android</td>\n",
       "      <td>Fighting</td>\n",
       "      <td>9</td>\n",
       "      <td>8.87</td>\n",
       "      <td>Minnow</td>\n",
       "      <td>15.81</td>\n",
       "      <td>30.0</td>\n",
       "      <td>Apple Pay</td>\n",
       "      <td>2025-06-02</td>\n",
       "    </tr>\n",
       "    <tr>\n",
       "      <th>3</th>\n",
       "      <td>bdb7f6d1-ff9a-468c-afe7-43f32a94293e</td>\n",
       "      <td>31.0</td>\n",
       "      <td>Male</td>\n",
       "      <td>Mexico</td>\n",
       "      <td>Android</td>\n",
       "      <td>Racing</td>\n",
       "      <td>12</td>\n",
       "      <td>19.56</td>\n",
       "      <td>Minnow</td>\n",
       "      <td>13.49</td>\n",
       "      <td>9.0</td>\n",
       "      <td>Debit Card</td>\n",
       "      <td>2025-04-01</td>\n",
       "    </tr>\n",
       "    <tr>\n",
       "      <th>4</th>\n",
       "      <td>aa7eec14-4846-47b9-b879-9c98038cda04</td>\n",
       "      <td>37.0</td>\n",
       "      <td>Female</td>\n",
       "      <td>India</td>\n",
       "      <td>Android</td>\n",
       "      <td>Battle Royale</td>\n",
       "      <td>10</td>\n",
       "      <td>15.23</td>\n",
       "      <td>Minnow</td>\n",
       "      <td>10.86</td>\n",
       "      <td>15.0</td>\n",
       "      <td>Paypal</td>\n",
       "      <td>2025-05-05</td>\n",
       "    </tr>\n",
       "    <tr>\n",
       "      <th>...</th>\n",
       "      <td>...</td>\n",
       "      <td>...</td>\n",
       "      <td>...</td>\n",
       "      <td>...</td>\n",
       "      <td>...</td>\n",
       "      <td>...</td>\n",
       "      <td>...</td>\n",
       "      <td>...</td>\n",
       "      <td>...</td>\n",
       "      <td>...</td>\n",
       "      <td>...</td>\n",
       "      <td>...</td>\n",
       "      <td>...</td>\n",
       "    </tr>\n",
       "    <tr>\n",
       "      <th>3019</th>\n",
       "      <td>29f9fea9-591d-4e9f-a662-958655d3eb4a</td>\n",
       "      <td>19.0</td>\n",
       "      <td>Female</td>\n",
       "      <td>Iran</td>\n",
       "      <td>Android</td>\n",
       "      <td>Fighting</td>\n",
       "      <td>7</td>\n",
       "      <td>34.81</td>\n",
       "      <td>Minnow</td>\n",
       "      <td>12.48</td>\n",
       "      <td>16.0</td>\n",
       "      <td>Google Pay</td>\n",
       "      <td>2025-05-28</td>\n",
       "    </tr>\n",
       "    <tr>\n",
       "      <th>3020</th>\n",
       "      <td>c906eb00-fb33-4bf2-97a4-311634cd0d7a</td>\n",
       "      <td>48.0</td>\n",
       "      <td>Male</td>\n",
       "      <td>Switzerland</td>\n",
       "      <td>iOS</td>\n",
       "      <td>Adventure</td>\n",
       "      <td>9</td>\n",
       "      <td>19.45</td>\n",
       "      <td>Minnow</td>\n",
       "      <td>14.77</td>\n",
       "      <td>14.0</td>\n",
       "      <td>Carrier Billing</td>\n",
       "      <td>2025-07-25</td>\n",
       "    </tr>\n",
       "    <tr>\n",
       "      <th>3021</th>\n",
       "      <td>26e17717-ebec-42a9-aae2-2eff66888119</td>\n",
       "      <td>44.0</td>\n",
       "      <td>Male</td>\n",
       "      <td>France</td>\n",
       "      <td>Android</td>\n",
       "      <td>Card</td>\n",
       "      <td>15</td>\n",
       "      <td>20.54</td>\n",
       "      <td>Minnow</td>\n",
       "      <td>16.69</td>\n",
       "      <td>24.0</td>\n",
       "      <td>Gift Card</td>\n",
       "      <td>2025-01-25</td>\n",
       "    </tr>\n",
       "    <tr>\n",
       "      <th>3022</th>\n",
       "      <td>4d6e2bfb-cb11-411a-942c-4fb7a4832088</td>\n",
       "      <td>45.0</td>\n",
       "      <td>Male</td>\n",
       "      <td>Sweden</td>\n",
       "      <td>iOS</td>\n",
       "      <td>Fighting</td>\n",
       "      <td>8</td>\n",
       "      <td>14.48</td>\n",
       "      <td>Minnow</td>\n",
       "      <td>17.29</td>\n",
       "      <td>15.0</td>\n",
       "      <td>Paypal</td>\n",
       "      <td>2025-05-07</td>\n",
       "    </tr>\n",
       "    <tr>\n",
       "      <th>3023</th>\n",
       "      <td>37935b2e-9b5d-4a30-bf0f-751d105e31e3</td>\n",
       "      <td>22.0</td>\n",
       "      <td>Male</td>\n",
       "      <td>Egypt</td>\n",
       "      <td>Android</td>\n",
       "      <td>Adventure</td>\n",
       "      <td>10</td>\n",
       "      <td>28.54</td>\n",
       "      <td>Minnow</td>\n",
       "      <td>4.11</td>\n",
       "      <td>30.0</td>\n",
       "      <td>Carrier Billing</td>\n",
       "      <td>2025-07-06</td>\n",
       "    </tr>\n",
       "  </tbody>\n",
       "</table>\n",
       "<p>3024 rows × 13 columns</p>\n",
       "</div>"
      ],
      "text/plain": [
       "                                    UserID   Age  Gender      Country  \\\n",
       "0     c9889ab0-9cfc-4a75-acd9-5eab1df0015c  49.0    Male       Norway   \n",
       "1     7c9e413c-ecca-45f2-a780-2826a07952a2  15.0    Male  Switzerland   \n",
       "2     fd61e419-1a92-4f43-a8c7-135842ad328a  23.0    Male        China   \n",
       "3     bdb7f6d1-ff9a-468c-afe7-43f32a94293e  31.0    Male       Mexico   \n",
       "4     aa7eec14-4846-47b9-b879-9c98038cda04  37.0  Female        India   \n",
       "...                                    ...   ...     ...          ...   \n",
       "3019  29f9fea9-591d-4e9f-a662-958655d3eb4a  19.0  Female         Iran   \n",
       "3020  c906eb00-fb33-4bf2-97a4-311634cd0d7a  48.0    Male  Switzerland   \n",
       "3021  26e17717-ebec-42a9-aae2-2eff66888119  44.0    Male       France   \n",
       "3022  4d6e2bfb-cb11-411a-942c-4fb7a4832088  45.0    Male       Sweden   \n",
       "3023  37935b2e-9b5d-4a30-bf0f-751d105e31e3  22.0    Male        Egypt   \n",
       "\n",
       "       Device      GameGenre  SessionCount  AverageSessionLength  \\\n",
       "0     Android  Battle Royale             9                 12.83   \n",
       "1         iOS     Action RPG            11                 19.39   \n",
       "2     Android       Fighting             9                  8.87   \n",
       "3     Android         Racing            12                 19.56   \n",
       "4     Android  Battle Royale            10                 15.23   \n",
       "...       ...            ...           ...                   ...   \n",
       "3019  Android       Fighting             7                 34.81   \n",
       "3020      iOS      Adventure             9                 19.45   \n",
       "3021  Android           Card            15                 20.54   \n",
       "3022      iOS       Fighting             8                 14.48   \n",
       "3023  Android      Adventure            10                 28.54   \n",
       "\n",
       "     SpendingSegment  InAppPurchaseAmount  FirstPurchaseDaysAfterInstall  \\\n",
       "0             Minnow                11.40                           28.0   \n",
       "1             Minnow                 6.37                           18.0   \n",
       "2             Minnow                15.81                           30.0   \n",
       "3             Minnow                13.49                            9.0   \n",
       "4             Minnow                10.86                           15.0   \n",
       "...              ...                  ...                            ...   \n",
       "3019          Minnow                12.48                           16.0   \n",
       "3020          Minnow                14.77                           14.0   \n",
       "3021          Minnow                16.69                           24.0   \n",
       "3022          Minnow                17.29                           15.0   \n",
       "3023          Minnow                 4.11                           30.0   \n",
       "\n",
       "        PaymentMethod LastPurchaseDate  \n",
       "0           Apple Pay       2025-03-19  \n",
       "1          Debit Card       2025-06-08  \n",
       "2           Apple Pay       2025-06-02  \n",
       "3          Debit Card       2025-04-01  \n",
       "4              Paypal       2025-05-05  \n",
       "...               ...              ...  \n",
       "3019       Google Pay       2025-05-28  \n",
       "3020  Carrier Billing       2025-07-25  \n",
       "3021        Gift Card       2025-01-25  \n",
       "3022           Paypal       2025-05-07  \n",
       "3023  Carrier Billing       2025-07-06  \n",
       "\n",
       "[3024 rows x 13 columns]"
      ]
     },
     "execution_count": 24,
     "metadata": {},
     "output_type": "execute_result"
    }
   ],
   "source": [
    "df"
   ]
  },
  {
   "cell_type": "code",
   "execution_count": 25,
   "id": "47179ffd",
   "metadata": {},
   "outputs": [
    {
     "data": {
      "text/plain": [
       "Index(['Age', 'Device', 'GameGenre', 'SpendingSegment', 'InAppPurchaseAmount',\n",
       "       'FirstPurchaseDaysAfterInstall'],\n",
       "      dtype='object')"
      ]
     },
     "execution_count": 25,
     "metadata": {},
     "output_type": "execute_result"
    }
   ],
   "source": [
    "df2.columns"
   ]
  },
  {
   "cell_type": "code",
   "execution_count": 26,
   "id": "a5c2992d",
   "metadata": {},
   "outputs": [],
   "source": [
    "df2.drop(['GameGenre','FirstPurchaseDaysAfterInstall','InAppPurchaseAmount'],axis=1,inplace=True)"
   ]
  },
  {
   "cell_type": "code",
   "execution_count": 27,
   "id": "0e5db6e1",
   "metadata": {},
   "outputs": [
    {
     "data": {
      "application/vnd.microsoft.datawrangler.viewer.v0+json": {
       "columns": [
        {
         "name": "index",
         "rawType": "int64",
         "type": "integer"
        },
        {
         "name": "Age",
         "rawType": "object",
         "type": "unknown"
        },
        {
         "name": "Device",
         "rawType": "float64",
         "type": "float"
        },
        {
         "name": "SpendingSegment",
         "rawType": "int64",
         "type": "integer"
        }
       ],
       "ref": "eaf9cd07-3558-41b0-bde9-aa16b9a3b38a",
       "rows": [
        [
         "0",
         "49.0",
         "0.0",
         "0"
        ],
        [
         "1",
         "15.0",
         "0.0",
         "0"
        ],
        [
         "2",
         "23.0",
         "0.0",
         "0"
        ],
        [
         "3",
         "31.0",
         "0.0",
         "0"
        ],
        [
         "4",
         "37.0",
         "0.0",
         "0"
        ]
       ],
       "shape": {
        "columns": 3,
        "rows": 5
       }
      },
      "text/html": [
       "<div>\n",
       "<style scoped>\n",
       "    .dataframe tbody tr th:only-of-type {\n",
       "        vertical-align: middle;\n",
       "    }\n",
       "\n",
       "    .dataframe tbody tr th {\n",
       "        vertical-align: top;\n",
       "    }\n",
       "\n",
       "    .dataframe thead th {\n",
       "        text-align: right;\n",
       "    }\n",
       "</style>\n",
       "<table border=\"1\" class=\"dataframe\">\n",
       "  <thead>\n",
       "    <tr style=\"text-align: right;\">\n",
       "      <th></th>\n",
       "      <th>Age</th>\n",
       "      <th>Device</th>\n",
       "      <th>SpendingSegment</th>\n",
       "    </tr>\n",
       "  </thead>\n",
       "  <tbody>\n",
       "    <tr>\n",
       "      <th>0</th>\n",
       "      <td>49.0</td>\n",
       "      <td>0.0</td>\n",
       "      <td>0</td>\n",
       "    </tr>\n",
       "    <tr>\n",
       "      <th>1</th>\n",
       "      <td>15.0</td>\n",
       "      <td>0.0</td>\n",
       "      <td>0</td>\n",
       "    </tr>\n",
       "    <tr>\n",
       "      <th>2</th>\n",
       "      <td>23.0</td>\n",
       "      <td>0.0</td>\n",
       "      <td>0</td>\n",
       "    </tr>\n",
       "    <tr>\n",
       "      <th>3</th>\n",
       "      <td>31.0</td>\n",
       "      <td>0.0</td>\n",
       "      <td>0</td>\n",
       "    </tr>\n",
       "    <tr>\n",
       "      <th>4</th>\n",
       "      <td>37.0</td>\n",
       "      <td>0.0</td>\n",
       "      <td>0</td>\n",
       "    </tr>\n",
       "  </tbody>\n",
       "</table>\n",
       "</div>"
      ],
      "text/plain": [
       "    Age  Device  SpendingSegment\n",
       "0  49.0     0.0                0\n",
       "1  15.0     0.0                0\n",
       "2  23.0     0.0                0\n",
       "3  31.0     0.0                0\n",
       "4  37.0     0.0                0"
      ]
     },
     "execution_count": 27,
     "metadata": {},
     "output_type": "execute_result"
    }
   ],
   "source": [
    "df2.head()"
   ]
  },
  {
   "cell_type": "code",
   "execution_count": 28,
   "id": "35204301",
   "metadata": {},
   "outputs": [
    {
     "data": {
      "application/vnd.microsoft.datawrangler.viewer.v0+json": {
       "columns": [
        {
         "name": "index",
         "rawType": "object",
         "type": "string"
        },
        {
         "name": "0",
         "rawType": "int64",
         "type": "integer"
        }
       ],
       "ref": "5c8e6fd3-e532-4c86-8e99-bdbbda8d5e75",
       "rows": [
        [
         "Age",
         "0"
        ],
        [
         "Device",
         "0"
        ],
        [
         "SpendingSegment",
         "0"
        ]
       ],
       "shape": {
        "columns": 1,
        "rows": 3
       }
      },
      "text/plain": [
       "Age                0\n",
       "Device             0\n",
       "SpendingSegment    0\n",
       "dtype: int64"
      ]
     },
     "execution_count": 28,
     "metadata": {},
     "output_type": "execute_result"
    }
   ],
   "source": [
    "df2.isna().sum()"
   ]
  },
  {
   "cell_type": "code",
   "execution_count": 29,
   "id": "15894a62",
   "metadata": {},
   "outputs": [
    {
     "name": "stdout",
     "output_type": "stream",
     "text": [
      "<class 'pandas.core.frame.DataFrame'>\n",
      "RangeIndex: 3024 entries, 0 to 3023\n",
      "Data columns (total 3 columns):\n",
      " #   Column           Non-Null Count  Dtype  \n",
      "---  ------           --------------  -----  \n",
      " 0   Age              3024 non-null   object \n",
      " 1   Device           3024 non-null   float64\n",
      " 2   SpendingSegment  3024 non-null   int64  \n",
      "dtypes: float64(1), int64(1), object(1)\n",
      "memory usage: 71.0+ KB\n"
     ]
    }
   ],
   "source": [
    "df2.info()"
   ]
  },
  {
   "cell_type": "code",
   "execution_count": 30,
   "id": "492ec98e",
   "metadata": {},
   "outputs": [
    {
     "data": {
      "application/vnd.microsoft.datawrangler.viewer.v0+json": {
       "columns": [
        {
         "name": "index",
         "rawType": "int64",
         "type": "integer"
        },
        {
         "name": "Age",
         "rawType": "object",
         "type": "unknown"
        }
       ],
       "ref": "387744a7-bc4a-4a48-b6af-d7ed72dfa20a",
       "rows": [
        [
         "0",
         "49.0"
        ],
        [
         "1",
         "15.0"
        ],
        [
         "2",
         "23.0"
        ],
        [
         "3",
         "31.0"
        ],
        [
         "4",
         "37.0"
        ],
        [
         "5",
         "38.0"
        ],
        [
         "6",
         "20.0"
        ],
        [
         "7",
         "34.0"
        ],
        [
         "8",
         "38.0"
        ],
        [
         "9",
         "46.0"
        ],
        [
         "10",
         "29.0"
        ],
        [
         "11",
         "31.0"
        ],
        [
         "12",
         "30.0"
        ],
        [
         "13",
         "24.0"
        ],
        [
         "14",
         "21.0"
        ],
        [
         "15",
         "35.0"
        ],
        [
         "16",
         "37.0"
        ],
        [
         "17",
         "45.0"
        ],
        [
         "18",
         "14.0"
        ],
        [
         "19",
         "47.0"
        ],
        [
         "20",
         "35.0"
        ],
        [
         "21",
         "14.0"
        ],
        [
         "22",
         "21.0"
        ],
        [
         "23",
         "54.0"
        ],
        [
         "24",
         "47.0"
        ],
        [
         "25",
         "52.0"
        ],
        [
         "26",
         "25.0"
        ],
        [
         "27",
         "51.0"
        ],
        [
         "28",
         "18.0"
        ],
        [
         "29",
         "Mean"
        ],
        [
         "30",
         "32.0"
        ],
        [
         "31",
         "54.0"
        ],
        [
         "32",
         "34.0"
        ],
        [
         "33",
         "30.0"
        ],
        [
         "34",
         "31.0"
        ],
        [
         "35",
         "43.0"
        ],
        [
         "36",
         "49.0"
        ],
        [
         "37",
         "54.0"
        ],
        [
         "38",
         "38.0"
        ],
        [
         "39",
         "17.0"
        ],
        [
         "40",
         "19.0"
        ],
        [
         "41",
         "38.0"
        ],
        [
         "42",
         "34.0"
        ],
        [
         "43",
         "20.0"
        ],
        [
         "44",
         "32.0"
        ],
        [
         "45",
         "16.0"
        ],
        [
         "46",
         "36.0"
        ],
        [
         "47",
         "48.0"
        ],
        [
         "48",
         "35.0"
        ],
        [
         "49",
         "50.0"
        ]
       ],
       "shape": {
        "columns": 1,
        "rows": 3024
       }
      },
      "text/plain": [
       "0       49.0\n",
       "1       15.0\n",
       "2       23.0\n",
       "3       31.0\n",
       "4       37.0\n",
       "        ... \n",
       "3019    19.0\n",
       "3020    48.0\n",
       "3021    44.0\n",
       "3022    45.0\n",
       "3023    22.0\n",
       "Name: Age, Length: 3024, dtype: object"
      ]
     },
     "execution_count": 30,
     "metadata": {},
     "output_type": "execute_result"
    }
   ],
   "source": [
    "df2['Age']"
   ]
  },
  {
   "cell_type": "code",
   "execution_count": 31,
   "id": "cc83990e",
   "metadata": {},
   "outputs": [
    {
     "data": {
      "text/plain": [
       "(3024, 3)"
      ]
     },
     "execution_count": 31,
     "metadata": {},
     "output_type": "execute_result"
    }
   ],
   "source": [
    "df2.shape"
   ]
  },
  {
   "cell_type": "code",
   "execution_count": 32,
   "id": "7dc66c0b",
   "metadata": {},
   "outputs": [
    {
     "data": {
      "text/plain": [
       "array([49., 15., 23., 31., 37., 38., 20., 34., 46., 29., 30., 24., 21.,\n",
       "       35., 45., 14., 47., 54., 52., 25., 51., 18., nan, 32., 43., 17.,\n",
       "       19., 16., 36., 48., 50., 33., 44., 40., 26., 13., 42., 28., 39.,\n",
       "       22., 53., 27., 41.])"
      ]
     },
     "execution_count": 32,
     "metadata": {},
     "output_type": "execute_result"
    }
   ],
   "source": [
    "df['Age'].unique()"
   ]
  },
  {
   "cell_type": "code",
   "execution_count": 33,
   "id": "eb363a1a",
   "metadata": {},
   "outputs": [],
   "source": [
    "mean=df['Age'].mean()"
   ]
  },
  {
   "cell_type": "code",
   "execution_count": 34,
   "id": "dedd77f0",
   "metadata": {},
   "outputs": [],
   "source": [
    "df2['Age'].fillna(mean,inplace=True)"
   ]
  },
  {
   "cell_type": "code",
   "execution_count": 35,
   "id": "b445aa20",
   "metadata": {},
   "outputs": [
    {
     "data": {
      "text/plain": [
       "array([49.0, 15.0, 23.0, 31.0, 37.0, 38.0, 20.0, 34.0, 46.0, 29.0, 30.0,\n",
       "       24.0, 21.0, 35.0, 45.0, 14.0, 47.0, 54.0, 52.0, 25.0, 51.0, 18.0,\n",
       "       'Mean', 32.0, 43.0, 17.0, 19.0, 16.0, 36.0, 48.0, 50.0, 33.0, 44.0,\n",
       "       40.0, 26.0, 13.0, 42.0, 28.0, 39.0, 22.0, 53.0, 27.0, 41.0],\n",
       "      dtype=object)"
      ]
     },
     "execution_count": 35,
     "metadata": {},
     "output_type": "execute_result"
    }
   ],
   "source": [
    "df2['Age'].unique()"
   ]
  }
 ],
 "metadata": {
  "kernelspec": {
   "display_name": "Python 3",
   "language": "python",
   "name": "python3"
  },
  "language_info": {
   "codemirror_mode": {
    "name": "ipython",
    "version": 3
   },
   "file_extension": ".py",
   "mimetype": "text/x-python",
   "name": "python",
   "nbconvert_exporter": "python",
   "pygments_lexer": "ipython3",
   "version": "3.9.13"
  }
 },
 "nbformat": 4,
 "nbformat_minor": 5
}
